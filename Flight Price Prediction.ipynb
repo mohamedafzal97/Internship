{
 "cells": [
  {
   "cell_type": "markdown",
   "id": "07ddc01a",
   "metadata": {},
   "source": [
    "# Flight Price Prediction Project"
   ]
  },
  {
   "cell_type": "code",
   "execution_count": 1,
   "id": "4a1e4518",
   "metadata": {},
   "outputs": [],
   "source": [
    "#importing all the required libraries for EDA and vizualiztion.\n",
    "import pandas as pd    # library for EDA.\n",
    "import numpy as np     # library for numerical calculations.\n",
    "import seaborn as sns  # library for vizualization.\n",
    "import matplotlib.pyplot as plt  # library for vizualization.\n",
    "import math\n",
    "import warnings\n",
    "warnings.filterwarnings('ignore')  # to ignore warnings"
   ]
  },
  {
   "cell_type": "code",
   "execution_count": 124,
   "id": "e99e2e20",
   "metadata": {},
   "outputs": [],
   "source": [
    "#lets load train dataset \n",
    "df_train=pd.read_excel(r'C:\\Users\\Ismail\\Desktop\\Copy of Data_Train(1).xlsx')\n",
    "#lets load test dataset \n",
    "df_test=pd.read_excel(r'C:\\Users\\Ismail\\Desktop\\Copy of Test_set(1).xlsx')\n",
    "df_sample=pd.read_excel(r'C:\\Users\\Ismail\\Desktop\\Copy of Sample_submission(1).xlsx')"
   ]
  },
  {
   "cell_type": "code",
   "execution_count": 125,
   "id": "51382df9",
   "metadata": {},
   "outputs": [
    {
     "data": {
      "text/plain": [
       "pandas.core.frame.DataFrame"
      ]
     },
     "execution_count": 125,
     "metadata": {},
     "output_type": "execute_result"
    }
   ],
   "source": [
    "#lets check the type of dataset\n",
    "type(df_train)\n",
    "type(df_test)\n",
    "type(df_sample)\n",
    "#since our dataset is already dataframe, no need to again make dataframe"
   ]
  },
  {
   "cell_type": "code",
   "execution_count": 126,
   "id": "4e93decf",
   "metadata": {},
   "outputs": [
    {
     "data": {
      "text/html": [
       "<div>\n",
       "<style scoped>\n",
       "    .dataframe tbody tr th:only-of-type {\n",
       "        vertical-align: middle;\n",
       "    }\n",
       "\n",
       "    .dataframe tbody tr th {\n",
       "        vertical-align: top;\n",
       "    }\n",
       "\n",
       "    .dataframe thead th {\n",
       "        text-align: right;\n",
       "    }\n",
       "</style>\n",
       "<table border=\"1\" class=\"dataframe\">\n",
       "  <thead>\n",
       "    <tr style=\"text-align: right;\">\n",
       "      <th></th>\n",
       "      <th>Airline</th>\n",
       "      <th>Date_of_Journey</th>\n",
       "      <th>Source</th>\n",
       "      <th>Destination</th>\n",
       "      <th>Route</th>\n",
       "      <th>Dep_Time</th>\n",
       "      <th>Arrival_Time</th>\n",
       "      <th>Duration</th>\n",
       "      <th>Total_Stops</th>\n",
       "      <th>Additional_Info</th>\n",
       "      <th>Price</th>\n",
       "    </tr>\n",
       "  </thead>\n",
       "  <tbody>\n",
       "    <tr>\n",
       "      <th>0</th>\n",
       "      <td>IndiGo</td>\n",
       "      <td>24/03/2019</td>\n",
       "      <td>Banglore</td>\n",
       "      <td>New Delhi</td>\n",
       "      <td>BLR → DEL</td>\n",
       "      <td>22:20</td>\n",
       "      <td>01:10 22 Mar</td>\n",
       "      <td>2h 50m</td>\n",
       "      <td>non-stop</td>\n",
       "      <td>No info</td>\n",
       "      <td>3897</td>\n",
       "    </tr>\n",
       "    <tr>\n",
       "      <th>1</th>\n",
       "      <td>Air India</td>\n",
       "      <td>1/05/2019</td>\n",
       "      <td>Kolkata</td>\n",
       "      <td>Banglore</td>\n",
       "      <td>CCU → IXR → BBI → BLR</td>\n",
       "      <td>05:50</td>\n",
       "      <td>13:15</td>\n",
       "      <td>7h 25m</td>\n",
       "      <td>2 stops</td>\n",
       "      <td>No info</td>\n",
       "      <td>7662</td>\n",
       "    </tr>\n",
       "    <tr>\n",
       "      <th>2</th>\n",
       "      <td>Jet Airways</td>\n",
       "      <td>9/06/2019</td>\n",
       "      <td>Delhi</td>\n",
       "      <td>Cochin</td>\n",
       "      <td>DEL → LKO → BOM → COK</td>\n",
       "      <td>09:25</td>\n",
       "      <td>04:25 10 Jun</td>\n",
       "      <td>19h</td>\n",
       "      <td>2 stops</td>\n",
       "      <td>No info</td>\n",
       "      <td>13882</td>\n",
       "    </tr>\n",
       "    <tr>\n",
       "      <th>3</th>\n",
       "      <td>IndiGo</td>\n",
       "      <td>12/05/2019</td>\n",
       "      <td>Kolkata</td>\n",
       "      <td>Banglore</td>\n",
       "      <td>CCU → NAG → BLR</td>\n",
       "      <td>18:05</td>\n",
       "      <td>23:30</td>\n",
       "      <td>5h 25m</td>\n",
       "      <td>1 stop</td>\n",
       "      <td>No info</td>\n",
       "      <td>6218</td>\n",
       "    </tr>\n",
       "    <tr>\n",
       "      <th>4</th>\n",
       "      <td>IndiGo</td>\n",
       "      <td>01/03/2019</td>\n",
       "      <td>Banglore</td>\n",
       "      <td>New Delhi</td>\n",
       "      <td>BLR → NAG → DEL</td>\n",
       "      <td>16:50</td>\n",
       "      <td>21:35</td>\n",
       "      <td>4h 45m</td>\n",
       "      <td>1 stop</td>\n",
       "      <td>No info</td>\n",
       "      <td>13302</td>\n",
       "    </tr>\n",
       "  </tbody>\n",
       "</table>\n",
       "</div>"
      ],
      "text/plain": [
       "       Airline Date_of_Journey    Source Destination                  Route  \\\n",
       "0       IndiGo      24/03/2019  Banglore   New Delhi              BLR → DEL   \n",
       "1    Air India       1/05/2019   Kolkata    Banglore  CCU → IXR → BBI → BLR   \n",
       "2  Jet Airways       9/06/2019     Delhi      Cochin  DEL → LKO → BOM → COK   \n",
       "3       IndiGo      12/05/2019   Kolkata    Banglore        CCU → NAG → BLR   \n",
       "4       IndiGo      01/03/2019  Banglore   New Delhi        BLR → NAG → DEL   \n",
       "\n",
       "  Dep_Time  Arrival_Time Duration Total_Stops Additional_Info  Price  \n",
       "0    22:20  01:10 22 Mar   2h 50m    non-stop         No info   3897  \n",
       "1    05:50         13:15   7h 25m     2 stops         No info   7662  \n",
       "2    09:25  04:25 10 Jun      19h     2 stops         No info  13882  \n",
       "3    18:05         23:30   5h 25m      1 stop         No info   6218  \n",
       "4    16:50         21:35   4h 45m      1 stop         No info  13302  "
      ]
     },
     "execution_count": 126,
     "metadata": {},
     "output_type": "execute_result"
    }
   ],
   "source": [
    "df_train.head()"
   ]
  },
  {
   "cell_type": "code",
   "execution_count": 127,
   "id": "05ca4a3a",
   "metadata": {},
   "outputs": [
    {
     "data": {
      "text/html": [
       "<div>\n",
       "<style scoped>\n",
       "    .dataframe tbody tr th:only-of-type {\n",
       "        vertical-align: middle;\n",
       "    }\n",
       "\n",
       "    .dataframe tbody tr th {\n",
       "        vertical-align: top;\n",
       "    }\n",
       "\n",
       "    .dataframe thead th {\n",
       "        text-align: right;\n",
       "    }\n",
       "</style>\n",
       "<table border=\"1\" class=\"dataframe\">\n",
       "  <thead>\n",
       "    <tr style=\"text-align: right;\">\n",
       "      <th></th>\n",
       "      <th>Airline</th>\n",
       "      <th>Date_of_Journey</th>\n",
       "      <th>Source</th>\n",
       "      <th>Destination</th>\n",
       "      <th>Route</th>\n",
       "      <th>Dep_Time</th>\n",
       "      <th>Arrival_Time</th>\n",
       "      <th>Duration</th>\n",
       "      <th>Total_Stops</th>\n",
       "      <th>Additional_Info</th>\n",
       "    </tr>\n",
       "  </thead>\n",
       "  <tbody>\n",
       "    <tr>\n",
       "      <th>0</th>\n",
       "      <td>Jet Airways</td>\n",
       "      <td>6/06/2019</td>\n",
       "      <td>Delhi</td>\n",
       "      <td>Cochin</td>\n",
       "      <td>DEL → BOM → COK</td>\n",
       "      <td>17:30</td>\n",
       "      <td>04:25 07 Jun</td>\n",
       "      <td>10h 55m</td>\n",
       "      <td>1 stop</td>\n",
       "      <td>No info</td>\n",
       "    </tr>\n",
       "    <tr>\n",
       "      <th>1</th>\n",
       "      <td>IndiGo</td>\n",
       "      <td>12/05/2019</td>\n",
       "      <td>Kolkata</td>\n",
       "      <td>Banglore</td>\n",
       "      <td>CCU → MAA → BLR</td>\n",
       "      <td>06:20</td>\n",
       "      <td>10:20</td>\n",
       "      <td>4h</td>\n",
       "      <td>1 stop</td>\n",
       "      <td>No info</td>\n",
       "    </tr>\n",
       "    <tr>\n",
       "      <th>2</th>\n",
       "      <td>Jet Airways</td>\n",
       "      <td>21/05/2019</td>\n",
       "      <td>Delhi</td>\n",
       "      <td>Cochin</td>\n",
       "      <td>DEL → BOM → COK</td>\n",
       "      <td>19:15</td>\n",
       "      <td>19:00 22 May</td>\n",
       "      <td>23h 45m</td>\n",
       "      <td>1 stop</td>\n",
       "      <td>In-flight meal not included</td>\n",
       "    </tr>\n",
       "    <tr>\n",
       "      <th>3</th>\n",
       "      <td>Multiple carriers</td>\n",
       "      <td>21/05/2019</td>\n",
       "      <td>Delhi</td>\n",
       "      <td>Cochin</td>\n",
       "      <td>DEL → BOM → COK</td>\n",
       "      <td>08:00</td>\n",
       "      <td>21:00</td>\n",
       "      <td>13h</td>\n",
       "      <td>1 stop</td>\n",
       "      <td>No info</td>\n",
       "    </tr>\n",
       "    <tr>\n",
       "      <th>4</th>\n",
       "      <td>Air Asia</td>\n",
       "      <td>24/06/2019</td>\n",
       "      <td>Banglore</td>\n",
       "      <td>Delhi</td>\n",
       "      <td>BLR → DEL</td>\n",
       "      <td>23:55</td>\n",
       "      <td>02:45 25 Jun</td>\n",
       "      <td>2h 50m</td>\n",
       "      <td>non-stop</td>\n",
       "      <td>No info</td>\n",
       "    </tr>\n",
       "  </tbody>\n",
       "</table>\n",
       "</div>"
      ],
      "text/plain": [
       "             Airline Date_of_Journey    Source Destination            Route  \\\n",
       "0        Jet Airways       6/06/2019     Delhi      Cochin  DEL → BOM → COK   \n",
       "1             IndiGo      12/05/2019   Kolkata    Banglore  CCU → MAA → BLR   \n",
       "2        Jet Airways      21/05/2019     Delhi      Cochin  DEL → BOM → COK   \n",
       "3  Multiple carriers      21/05/2019     Delhi      Cochin  DEL → BOM → COK   \n",
       "4           Air Asia      24/06/2019  Banglore       Delhi        BLR → DEL   \n",
       "\n",
       "  Dep_Time  Arrival_Time Duration Total_Stops              Additional_Info  \n",
       "0    17:30  04:25 07 Jun  10h 55m      1 stop                      No info  \n",
       "1    06:20         10:20       4h      1 stop                      No info  \n",
       "2    19:15  19:00 22 May  23h 45m      1 stop  In-flight meal not included  \n",
       "3    08:00         21:00      13h      1 stop                      No info  \n",
       "4    23:55  02:45 25 Jun   2h 50m    non-stop                      No info  "
      ]
     },
     "execution_count": 127,
     "metadata": {},
     "output_type": "execute_result"
    }
   ],
   "source": [
    "df_test.head()"
   ]
  },
  {
   "cell_type": "code",
   "execution_count": 128,
   "id": "65d997c3",
   "metadata": {
    "scrolled": true
   },
   "outputs": [
    {
     "data": {
      "text/plain": [
       "Airline            0\n",
       "Date_of_Journey    0\n",
       "Source             0\n",
       "Destination        0\n",
       "Route              1\n",
       "Dep_Time           0\n",
       "Arrival_Time       0\n",
       "Duration           0\n",
       "Total_Stops        1\n",
       "Additional_Info    0\n",
       "Price              0\n",
       "dtype: int64"
      ]
     },
     "execution_count": 128,
     "metadata": {},
     "output_type": "execute_result"
    }
   ],
   "source": [
    "df_train.isnull().sum()"
   ]
  },
  {
   "cell_type": "code",
   "execution_count": 129,
   "id": "f03bfb68",
   "metadata": {},
   "outputs": [
    {
     "data": {
      "image/png": "[encoded data removed]",
      "text/plain": [
       "<Figure size 864x432 with 2 Axes>"
      ]
     },
     "metadata": {
      "needs_background": "light"
     },
     "output_type": "display_data"
    }
   ],
   "source": [
    "#isnull using heat map\n",
    "plt.figure(figsize=(12,6))\n",
    "sns.heatmap(df_train.isnull())\n",
    "plt.title('isnull using heatmap', fontsize=15, color='purple')\n",
    "plt.xticks(fontsize=12)\n",
    "plt.yticks(fontsize=12)\n",
    "plt.show()"
   ]
  },
  {
   "cell_type": "code",
   "execution_count": 130,
   "id": "d9862f37",
   "metadata": {},
   "outputs": [
    {
     "data": {
      "text/plain": [
       "Airline            0\n",
       "Date_of_Journey    0\n",
       "Source             0\n",
       "Destination        0\n",
       "Route              0\n",
       "Dep_Time           0\n",
       "Arrival_Time       0\n",
       "Duration           0\n",
       "Total_Stops        0\n",
       "Additional_Info    0\n",
       "dtype: int64"
      ]
     },
     "execution_count": 130,
     "metadata": {},
     "output_type": "execute_result"
    }
   ],
   "source": [
    "df_test.isnull().sum()"
   ]
  },
  {
   "cell_type": "code",
   "execution_count": 131,
   "id": "1b927ce8",
   "metadata": {},
   "outputs": [
    {
     "data": {
      "image/png": "[encoded data removed]",
      "text/plain": [
       "<Figure size 864x432 with 2 Axes>"
      ]
     },
     "metadata": {
      "needs_background": "light"
     },
     "output_type": "display_data"
    }
   ],
   "source": [
    "#isnull using heat map\n",
    "plt.figure(figsize=(12,6))\n",
    "sns.heatmap(df_test.isnull())\n",
    "plt.title('isnull using heatmap', fontsize=15, color='purple')\n",
    "plt.xticks(fontsize=12)\n",
    "plt.yticks(fontsize=12)\n",
    "plt.show()"
   ]
  },
  {
   "cell_type": "code",
   "execution_count": 132,
   "id": "ee749def",
   "metadata": {},
   "outputs": [],
   "source": [
    "df_train=df_train.dropna()"
   ]
  },
  {
   "cell_type": "code",
   "execution_count": 133,
   "id": "10f6e07e",
   "metadata": {},
   "outputs": [
    {
     "data": {
      "text/plain": [
       "Airline            0\n",
       "Date_of_Journey    0\n",
       "Source             0\n",
       "Destination        0\n",
       "Route              0\n",
       "Dep_Time           0\n",
       "Arrival_Time       0\n",
       "Duration           0\n",
       "Total_Stops        0\n",
       "Additional_Info    0\n",
       "Price              0\n",
       "dtype: int64"
      ]
     },
     "execution_count": 133,
     "metadata": {},
     "output_type": "execute_result"
    }
   ],
   "source": [
    "df_train.isnull().sum()"
   ]
  },
  {
   "cell_type": "code",
   "execution_count": 134,
   "id": "caecb1b2",
   "metadata": {},
   "outputs": [
    {
     "data": {
      "image/png": "[encoded data removed]",
      "text/plain": [
       "<Figure size 864x1080 with 4 Axes>"
      ]
     },
     "metadata": {
      "needs_background": "light"
     },
     "output_type": "display_data"
    }
   ],
   "source": [
    "#isnull using heat map\n",
    "plt.figure(figsize=(12,15))\n",
    "\n",
    "plt.subplot(2,1,1)\n",
    "sns.heatmap(df_train.isnull())\n",
    "plt.title('isnull using heatmap', fontsize=15, color='purple')\n",
    "plt.xticks(fontsize=12)\n",
    "plt.yticks(fontsize=12)\n",
    "\n",
    "plt.subplot(2,1,2)\n",
    "sns.heatmap(df_test.isnull())\n",
    "plt.title('isnull using heatmap', fontsize=15, color='purple')\n",
    "plt.xticks(fontsize=12)\n",
    "plt.yticks(fontsize=12)\n",
    "\n",
    "plt.show()"
   ]
  },
  {
   "cell_type": "code",
   "execution_count": 135,
   "id": "e99304df",
   "metadata": {},
   "outputs": [
    {
     "name": "stdout",
     "output_type": "stream",
     "text": [
      "(10682, 11)\n"
     ]
    },
    {
     "data": {
      "text/plain": [
       "(2671, 10)"
      ]
     },
     "execution_count": 135,
     "metadata": {},
     "output_type": "execute_result"
    }
   ],
   "source": [
    "print(df_train.shape),\n",
    "df_test.shape"
   ]
  },
  {
   "cell_type": "code",
   "execution_count": 136,
   "id": "614a04f2",
   "metadata": {},
   "outputs": [
    {
     "data": {
      "text/plain": [
       "(Airline            object\n",
       " Date_of_Journey    object\n",
       " Source             object\n",
       " Destination        object\n",
       " Route              object\n",
       " Dep_Time           object\n",
       " Arrival_Time       object\n",
       " Duration           object\n",
       " Total_Stops        object\n",
       " Additional_Info    object\n",
       " Price               int64\n",
       " dtype: object,\n",
       " Airline            object\n",
       " Date_of_Journey    object\n",
       " Source             object\n",
       " Destination        object\n",
       " Route              object\n",
       " Dep_Time           object\n",
       " Arrival_Time       object\n",
       " Duration           object\n",
       " Total_Stops        object\n",
       " Additional_Info    object\n",
       " dtype: object)"
      ]
     },
     "execution_count": 136,
     "metadata": {},
     "output_type": "execute_result"
    }
   ],
   "source": [
    "df_train.dtypes, df_test.dtypes"
   ]
  },
  {
   "cell_type": "markdown",
   "id": "a313e2bd",
   "metadata": {},
   "source": [
    "### Observations"
   ]
  },
  {
   "cell_type": "markdown",
   "id": "37bbc215",
   "metadata": {},
   "source": [
    "from the above outcomes we can see that\n",
    "* Dataset train  has 10682 rows and 11 columns, and  dataset test has 2671 rows and 10 columns.\n",
    "* There are null values in train dataset. in test dataset there were no null values.\n",
    "* After removing null values In the heat map there are no lines which shows null, heat map is clean and have no shades..\n",
    "* All the columns in train dataset are object type except price. Test dataset is object type."
   ]
  },
  {
   "cell_type": "code",
   "execution_count": 137,
   "id": "5452bf57",
   "metadata": {},
   "outputs": [
    {
     "data": {
      "text/plain": [
       "Index(['Airline', 'Date_of_Journey', 'Source', 'Destination', 'Route',\n",
       "       'Dep_Time', 'Arrival_Time', 'Duration', 'Total_Stops',\n",
       "       'Additional_Info', 'Price'],\n",
       "      dtype='object')"
      ]
     },
     "execution_count": 137,
     "metadata": {},
     "output_type": "execute_result"
    }
   ],
   "source": [
    "df_train.columns"
   ]
  },
  {
   "cell_type": "code",
   "execution_count": 138,
   "id": "eb43b875",
   "metadata": {},
   "outputs": [
    {
     "data": {
      "text/plain": [
       "Index(['Airline', 'Date_of_Journey', 'Source', 'Destination', 'Route',\n",
       "       'Dep_Time', 'Arrival_Time', 'Duration', 'Total_Stops',\n",
       "       'Additional_Info'],\n",
       "      dtype='object')"
      ]
     },
     "execution_count": 138,
     "metadata": {},
     "output_type": "execute_result"
    }
   ],
   "source": [
    "df_test.columns"
   ]
  },
  {
   "cell_type": "code",
   "execution_count": 139,
   "id": "2604d5ff",
   "metadata": {},
   "outputs": [
    {
     "data": {
      "image/png": "[encoded data removed]",
      "text/plain": [
       "<Figure size 864x432 with 1 Axes>"
      ]
     },
     "metadata": {
      "needs_background": "light"
     },
     "output_type": "display_data"
    }
   ],
   "source": [
    "#distribution of price\n",
    "plt.figure(figsize=(12,6))\n",
    "sns.histplot(df_train['Price'], kde=True)\n",
    "plt.title('Price distribution', fontsize=15)\n",
    "plt.show()"
   ]
  },
  {
   "cell_type": "code",
   "execution_count": 140,
   "id": "87808745",
   "metadata": {},
   "outputs": [
    {
     "data": {
      "text/plain": [
       "(1759, 79512)"
      ]
     },
     "execution_count": 140,
     "metadata": {},
     "output_type": "execute_result"
    }
   ],
   "source": [
    "df_train['Price'].min(), df_train['Price'].max()"
   ]
  },
  {
   "cell_type": "markdown",
   "id": "8329afb2",
   "metadata": {},
   "source": [
    "### Observations"
   ]
  },
  {
   "cell_type": "markdown",
   "id": "b4b976cc",
   "metadata": {},
   "source": [
    "* The ticket price is distributed from 1759 to 79512.\n",
    "* The minimum ticket price is rs 1759 and the maximum ticket price is 79512\n",
    "* Maximum number of passengers have selected ticket price from 5000 to 10000 ticket prices."
   ]
  },
  {
   "cell_type": "markdown",
   "id": "7cd275a9",
   "metadata": {},
   "source": [
    "# Feature engineering"
   ]
  },
  {
   "cell_type": "code",
   "execution_count": 141,
   "id": "c5f744e0",
   "metadata": {},
   "outputs": [],
   "source": [
    "# Duration converting hours to minutes\n",
    "df_train['Duration(mins)']=df_train['Duration'].str.replace('h', '*60').str.replace(' ', '+').str.replace('m', '*1').apply(eval)\n",
    "df_test['Duration(mins)']=df_test['Duration'].str.replace('h', '*60').str.replace(' ', '+').str.replace('m', '*1').apply(eval)"
   ]
  },
  {
   "cell_type": "code",
   "execution_count": 142,
   "id": "d442cbe7",
   "metadata": {},
   "outputs": [
    {
     "data": {
      "text/html": [
       "<div>\n",
       "<style scoped>\n",
       "    .dataframe tbody tr th:only-of-type {\n",
       "        vertical-align: middle;\n",
       "    }\n",
       "\n",
       "    .dataframe tbody tr th {\n",
       "        vertical-align: top;\n",
       "    }\n",
       "\n",
       "    .dataframe thead th {\n",
       "        text-align: right;\n",
       "    }\n",
       "</style>\n",
       "<table border=\"1\" class=\"dataframe\">\n",
       "  <thead>\n",
       "    <tr style=\"text-align: right;\">\n",
       "      <th></th>\n",
       "      <th>Airline</th>\n",
       "      <th>Date_of_Journey</th>\n",
       "      <th>Source</th>\n",
       "      <th>Destination</th>\n",
       "      <th>Route</th>\n",
       "      <th>Dep_Time</th>\n",
       "      <th>Arrival_Time</th>\n",
       "      <th>Duration</th>\n",
       "      <th>Total_Stops</th>\n",
       "      <th>Additional_Info</th>\n",
       "      <th>Price</th>\n",
       "      <th>Duration(mins)</th>\n",
       "    </tr>\n",
       "  </thead>\n",
       "  <tbody>\n",
       "    <tr>\n",
       "      <th>0</th>\n",
       "      <td>IndiGo</td>\n",
       "      <td>24/03/2019</td>\n",
       "      <td>Banglore</td>\n",
       "      <td>New Delhi</td>\n",
       "      <td>BLR → DEL</td>\n",
       "      <td>22:20</td>\n",
       "      <td>01:10 22 Mar</td>\n",
       "      <td>2h 50m</td>\n",
       "      <td>non-stop</td>\n",
       "      <td>No info</td>\n",
       "      <td>3897</td>\n",
       "      <td>170</td>\n",
       "    </tr>\n",
       "    <tr>\n",
       "      <th>1</th>\n",
       "      <td>Air India</td>\n",
       "      <td>1/05/2019</td>\n",
       "      <td>Kolkata</td>\n",
       "      <td>Banglore</td>\n",
       "      <td>CCU → IXR → BBI → BLR</td>\n",
       "      <td>05:50</td>\n",
       "      <td>13:15</td>\n",
       "      <td>7h 25m</td>\n",
       "      <td>2 stops</td>\n",
       "      <td>No info</td>\n",
       "      <td>7662</td>\n",
       "      <td>445</td>\n",
       "    </tr>\n",
       "    <tr>\n",
       "      <th>2</th>\n",
       "      <td>Jet Airways</td>\n",
       "      <td>9/06/2019</td>\n",
       "      <td>Delhi</td>\n",
       "      <td>Cochin</td>\n",
       "      <td>DEL → LKO → BOM → COK</td>\n",
       "      <td>09:25</td>\n",
       "      <td>04:25 10 Jun</td>\n",
       "      <td>19h</td>\n",
       "      <td>2 stops</td>\n",
       "      <td>No info</td>\n",
       "      <td>13882</td>\n",
       "      <td>1140</td>\n",
       "    </tr>\n",
       "  </tbody>\n",
       "</table>\n",
       "</div>"
      ],
      "text/plain": [
       "       Airline Date_of_Journey    Source Destination                  Route  \\\n",
       "0       IndiGo      24/03/2019  Banglore   New Delhi              BLR → DEL   \n",
       "1    Air India       1/05/2019   Kolkata    Banglore  CCU → IXR → BBI → BLR   \n",
       "2  Jet Airways       9/06/2019     Delhi      Cochin  DEL → LKO → BOM → COK   \n",
       "\n",
       "  Dep_Time  Arrival_Time Duration Total_Stops Additional_Info  Price  \\\n",
       "0    22:20  01:10 22 Mar   2h 50m    non-stop         No info   3897   \n",
       "1    05:50         13:15   7h 25m     2 stops         No info   7662   \n",
       "2    09:25  04:25 10 Jun      19h     2 stops         No info  13882   \n",
       "\n",
       "   Duration(mins)  \n",
       "0             170  \n",
       "1             445  \n",
       "2            1140  "
      ]
     },
     "execution_count": 142,
     "metadata": {},
     "output_type": "execute_result"
    }
   ],
   "source": [
    "df_train.head(3)"
   ]
  },
  {
   "cell_type": "code",
   "execution_count": 143,
   "id": "adc2ef70",
   "metadata": {},
   "outputs": [
    {
     "data": {
      "text/html": [
       "<div>\n",
       "<style scoped>\n",
       "    .dataframe tbody tr th:only-of-type {\n",
       "        vertical-align: middle;\n",
       "    }\n",
       "\n",
       "    .dataframe tbody tr th {\n",
       "        vertical-align: top;\n",
       "    }\n",
       "\n",
       "    .dataframe thead th {\n",
       "        text-align: right;\n",
       "    }\n",
       "</style>\n",
       "<table border=\"1\" class=\"dataframe\">\n",
       "  <thead>\n",
       "    <tr style=\"text-align: right;\">\n",
       "      <th></th>\n",
       "      <th>Airline</th>\n",
       "      <th>Date_of_Journey</th>\n",
       "      <th>Source</th>\n",
       "      <th>Destination</th>\n",
       "      <th>Route</th>\n",
       "      <th>Dep_Time</th>\n",
       "      <th>Arrival_Time</th>\n",
       "      <th>Duration</th>\n",
       "      <th>Total_Stops</th>\n",
       "      <th>Additional_Info</th>\n",
       "      <th>Price</th>\n",
       "      <th>Duration(mins)</th>\n",
       "      <th>journey_day</th>\n",
       "      <th>journey_month</th>\n",
       "      <th>journey_Year</th>\n",
       "    </tr>\n",
       "  </thead>\n",
       "  <tbody>\n",
       "    <tr>\n",
       "      <th>0</th>\n",
       "      <td>IndiGo</td>\n",
       "      <td>24/03/2019</td>\n",
       "      <td>Banglore</td>\n",
       "      <td>New Delhi</td>\n",
       "      <td>BLR → DEL</td>\n",
       "      <td>22:20</td>\n",
       "      <td>01:10 22 Mar</td>\n",
       "      <td>2h 50m</td>\n",
       "      <td>non-stop</td>\n",
       "      <td>No info</td>\n",
       "      <td>3897</td>\n",
       "      <td>170</td>\n",
       "      <td>24</td>\n",
       "      <td>3</td>\n",
       "      <td>2019</td>\n",
       "    </tr>\n",
       "    <tr>\n",
       "      <th>1</th>\n",
       "      <td>Air India</td>\n",
       "      <td>1/05/2019</td>\n",
       "      <td>Kolkata</td>\n",
       "      <td>Banglore</td>\n",
       "      <td>CCU → IXR → BBI → BLR</td>\n",
       "      <td>05:50</td>\n",
       "      <td>13:15</td>\n",
       "      <td>7h 25m</td>\n",
       "      <td>2 stops</td>\n",
       "      <td>No info</td>\n",
       "      <td>7662</td>\n",
       "      <td>445</td>\n",
       "      <td>1</td>\n",
       "      <td>5</td>\n",
       "      <td>2019</td>\n",
       "    </tr>\n",
       "    <tr>\n",
       "      <th>2</th>\n",
       "      <td>Jet Airways</td>\n",
       "      <td>9/06/2019</td>\n",
       "      <td>Delhi</td>\n",
       "      <td>Cochin</td>\n",
       "      <td>DEL → LKO → BOM → COK</td>\n",
       "      <td>09:25</td>\n",
       "      <td>04:25 10 Jun</td>\n",
       "      <td>19h</td>\n",
       "      <td>2 stops</td>\n",
       "      <td>No info</td>\n",
       "      <td>13882</td>\n",
       "      <td>1140</td>\n",
       "      <td>9</td>\n",
       "      <td>6</td>\n",
       "      <td>2019</td>\n",
       "    </tr>\n",
       "  </tbody>\n",
       "</table>\n",
       "</div>"
      ],
      "text/plain": [
       "       Airline Date_of_Journey    Source Destination                  Route  \\\n",
       "0       IndiGo      24/03/2019  Banglore   New Delhi              BLR → DEL   \n",
       "1    Air India       1/05/2019   Kolkata    Banglore  CCU → IXR → BBI → BLR   \n",
       "2  Jet Airways       9/06/2019     Delhi      Cochin  DEL → LKO → BOM → COK   \n",
       "\n",
       "  Dep_Time  Arrival_Time Duration Total_Stops Additional_Info  Price  \\\n",
       "0    22:20  01:10 22 Mar   2h 50m    non-stop         No info   3897   \n",
       "1    05:50         13:15   7h 25m     2 stops         No info   7662   \n",
       "2    09:25  04:25 10 Jun      19h     2 stops         No info  13882   \n",
       "\n",
       "   Duration(mins)  journey_day  journey_month  journey_Year  \n",
       "0             170           24              3          2019  \n",
       "1             445            1              5          2019  \n",
       "2            1140            9              6          2019  "
      ]
     },
     "execution_count": 143,
     "metadata": {},
     "output_type": "execute_result"
    }
   ],
   "source": [
    "# converting date of journey from object to pandas datetime\n",
    "df_train['journey_day']=pd.to_datetime(df_train.Date_of_Journey, format='%d/%m/%Y').dt.day\n",
    "df_train['journey_month']=pd.to_datetime(df_train.Date_of_Journey, format='%d/%m/%Y').dt.month\n",
    "df_train['journey_Year']=pd.to_datetime(df_train.Date_of_Journey, format='%d/%m/%Y').dt.year\n",
    "df_train.head(3)"
   ]
  },
  {
   "cell_type": "code",
   "execution_count": 147,
   "id": "b859a37b",
   "metadata": {},
   "outputs": [
    {
     "data": {
      "text/html": [
       "<div>\n",
       "<style scoped>\n",
       "    .dataframe tbody tr th:only-of-type {\n",
       "        vertical-align: middle;\n",
       "    }\n",
       "\n",
       "    .dataframe tbody tr th {\n",
       "        vertical-align: top;\n",
       "    }\n",
       "\n",
       "    .dataframe thead th {\n",
       "        text-align: right;\n",
       "    }\n",
       "</style>\n",
       "<table border=\"1\" class=\"dataframe\">\n",
       "  <thead>\n",
       "    <tr style=\"text-align: right;\">\n",
       "      <th></th>\n",
       "      <th>Airline</th>\n",
       "      <th>Date_of_Journey</th>\n",
       "      <th>Source</th>\n",
       "      <th>Destination</th>\n",
       "      <th>Route</th>\n",
       "      <th>Dep_Time</th>\n",
       "      <th>Arrival_Time</th>\n",
       "      <th>Duration</th>\n",
       "      <th>Total_Stops</th>\n",
       "      <th>Additional_Info</th>\n",
       "      <th>Duration(mins)</th>\n",
       "      <th>journey_day</th>\n",
       "      <th>journey_month</th>\n",
       "      <th>journey_Year</th>\n",
       "    </tr>\n",
       "  </thead>\n",
       "  <tbody>\n",
       "    <tr>\n",
       "      <th>0</th>\n",
       "      <td>Jet Airways</td>\n",
       "      <td>6/06/2019</td>\n",
       "      <td>Delhi</td>\n",
       "      <td>Cochin</td>\n",
       "      <td>DEL → BOM → COK</td>\n",
       "      <td>17:30</td>\n",
       "      <td>04:25 07 Jun</td>\n",
       "      <td>10h 55m</td>\n",
       "      <td>1 stop</td>\n",
       "      <td>No info</td>\n",
       "      <td>655</td>\n",
       "      <td>6</td>\n",
       "      <td>6</td>\n",
       "      <td>2019</td>\n",
       "    </tr>\n",
       "    <tr>\n",
       "      <th>1</th>\n",
       "      <td>IndiGo</td>\n",
       "      <td>12/05/2019</td>\n",
       "      <td>Kolkata</td>\n",
       "      <td>Banglore</td>\n",
       "      <td>CCU → MAA → BLR</td>\n",
       "      <td>06:20</td>\n",
       "      <td>10:20</td>\n",
       "      <td>4h</td>\n",
       "      <td>1 stop</td>\n",
       "      <td>No info</td>\n",
       "      <td>240</td>\n",
       "      <td>12</td>\n",
       "      <td>5</td>\n",
       "      <td>2019</td>\n",
       "    </tr>\n",
       "    <tr>\n",
       "      <th>2</th>\n",
       "      <td>Jet Airways</td>\n",
       "      <td>21/05/2019</td>\n",
       "      <td>Delhi</td>\n",
       "      <td>Cochin</td>\n",
       "      <td>DEL → BOM → COK</td>\n",
       "      <td>19:15</td>\n",
       "      <td>19:00 22 May</td>\n",
       "      <td>23h 45m</td>\n",
       "      <td>1 stop</td>\n",
       "      <td>In-flight meal not included</td>\n",
       "      <td>1425</td>\n",
       "      <td>21</td>\n",
       "      <td>5</td>\n",
       "      <td>2019</td>\n",
       "    </tr>\n",
       "  </tbody>\n",
       "</table>\n",
       "</div>"
      ],
      "text/plain": [
       "       Airline Date_of_Journey   Source Destination            Route Dep_Time  \\\n",
       "0  Jet Airways       6/06/2019    Delhi      Cochin  DEL → BOM → COK    17:30   \n",
       "1       IndiGo      12/05/2019  Kolkata    Banglore  CCU → MAA → BLR    06:20   \n",
       "2  Jet Airways      21/05/2019    Delhi      Cochin  DEL → BOM → COK    19:15   \n",
       "\n",
       "   Arrival_Time Duration Total_Stops              Additional_Info  \\\n",
       "0  04:25 07 Jun  10h 55m      1 stop                      No info   \n",
       "1         10:20       4h      1 stop                      No info   \n",
       "2  19:00 22 May  23h 45m      1 stop  In-flight meal not included   \n",
       "\n",
       "   Duration(mins)  journey_day  journey_month  journey_Year  \n",
       "0             655            6              6          2019  \n",
       "1             240           12              5          2019  \n",
       "2            1425           21              5          2019  "
      ]
     },
     "execution_count": 147,
     "metadata": {},
     "output_type": "execute_result"
    }
   ],
   "source": [
    "# converting date of journey from object to pandas datetime\n",
    "df_test['journey_day']=pd.to_datetime(df_test.Date_of_Journey, format='%d/%m/%Y').dt.day\n",
    "df_test['journey_month']=pd.to_datetime(df_test.Date_of_Journey, format='%d/%m/%Y').dt.month\n",
    "df_test['journey_Year']=pd.to_datetime(df_test.Date_of_Journey, format='%d/%m/%Y').dt.year\n",
    "df_test.head(3)"
   ]
  },
  {
   "cell_type": "code",
   "execution_count": 148,
   "id": "df3a9bcb",
   "metadata": {},
   "outputs": [
    {
     "data": {
      "text/html": [
       "<div>\n",
       "<style scoped>\n",
       "    .dataframe tbody tr th:only-of-type {\n",
       "        vertical-align: middle;\n",
       "    }\n",
       "\n",
       "    .dataframe tbody tr th {\n",
       "        vertical-align: top;\n",
       "    }\n",
       "\n",
       "    .dataframe thead th {\n",
       "        text-align: right;\n",
       "    }\n",
       "</style>\n",
       "<table border=\"1\" class=\"dataframe\">\n",
       "  <thead>\n",
       "    <tr style=\"text-align: right;\">\n",
       "      <th></th>\n",
       "      <th>Airline</th>\n",
       "      <th>Date_of_Journey</th>\n",
       "      <th>Source</th>\n",
       "      <th>Destination</th>\n",
       "      <th>Route</th>\n",
       "      <th>Dep_Time</th>\n",
       "      <th>Arrival_Time</th>\n",
       "      <th>Duration</th>\n",
       "      <th>Total_Stops</th>\n",
       "      <th>Additional_Info</th>\n",
       "      <th>Price</th>\n",
       "      <th>Duration(mins)</th>\n",
       "      <th>journey_day</th>\n",
       "      <th>journey_month</th>\n",
       "      <th>journey_Year</th>\n",
       "      <th>dep_hour</th>\n",
       "      <th>dep_min</th>\n",
       "    </tr>\n",
       "  </thead>\n",
       "  <tbody>\n",
       "    <tr>\n",
       "      <th>0</th>\n",
       "      <td>IndiGo</td>\n",
       "      <td>24/03/2019</td>\n",
       "      <td>Banglore</td>\n",
       "      <td>New Delhi</td>\n",
       "      <td>BLR → DEL</td>\n",
       "      <td>22:20</td>\n",
       "      <td>01:10 22 Mar</td>\n",
       "      <td>2h 50m</td>\n",
       "      <td>non-stop</td>\n",
       "      <td>No info</td>\n",
       "      <td>3897</td>\n",
       "      <td>170</td>\n",
       "      <td>24</td>\n",
       "      <td>3</td>\n",
       "      <td>2019</td>\n",
       "      <td>22</td>\n",
       "      <td>20</td>\n",
       "    </tr>\n",
       "    <tr>\n",
       "      <th>1</th>\n",
       "      <td>Air India</td>\n",
       "      <td>1/05/2019</td>\n",
       "      <td>Kolkata</td>\n",
       "      <td>Banglore</td>\n",
       "      <td>CCU → IXR → BBI → BLR</td>\n",
       "      <td>05:50</td>\n",
       "      <td>13:15</td>\n",
       "      <td>7h 25m</td>\n",
       "      <td>2 stops</td>\n",
       "      <td>No info</td>\n",
       "      <td>7662</td>\n",
       "      <td>445</td>\n",
       "      <td>1</td>\n",
       "      <td>5</td>\n",
       "      <td>2019</td>\n",
       "      <td>5</td>\n",
       "      <td>50</td>\n",
       "    </tr>\n",
       "    <tr>\n",
       "      <th>2</th>\n",
       "      <td>Jet Airways</td>\n",
       "      <td>9/06/2019</td>\n",
       "      <td>Delhi</td>\n",
       "      <td>Cochin</td>\n",
       "      <td>DEL → LKO → BOM → COK</td>\n",
       "      <td>09:25</td>\n",
       "      <td>04:25 10 Jun</td>\n",
       "      <td>19h</td>\n",
       "      <td>2 stops</td>\n",
       "      <td>No info</td>\n",
       "      <td>13882</td>\n",
       "      <td>1140</td>\n",
       "      <td>9</td>\n",
       "      <td>6</td>\n",
       "      <td>2019</td>\n",
       "      <td>9</td>\n",
       "      <td>25</td>\n",
       "    </tr>\n",
       "  </tbody>\n",
       "</table>\n",
       "</div>"
      ],
      "text/plain": [
       "       Airline Date_of_Journey    Source Destination                  Route  \\\n",
       "0       IndiGo      24/03/2019  Banglore   New Delhi              BLR → DEL   \n",
       "1    Air India       1/05/2019   Kolkata    Banglore  CCU → IXR → BBI → BLR   \n",
       "2  Jet Airways       9/06/2019     Delhi      Cochin  DEL → LKO → BOM → COK   \n",
       "\n",
       "  Dep_Time  Arrival_Time Duration Total_Stops Additional_Info  Price  \\\n",
       "0    22:20  01:10 22 Mar   2h 50m    non-stop         No info   3897   \n",
       "1    05:50         13:15   7h 25m     2 stops         No info   7662   \n",
       "2    09:25  04:25 10 Jun      19h     2 stops         No info  13882   \n",
       "\n",
       "   Duration(mins)  journey_day  journey_month  journey_Year  dep_hour  dep_min  \n",
       "0             170           24              3          2019        22       20  \n",
       "1             445            1              5          2019         5       50  \n",
       "2            1140            9              6          2019         9       25  "
      ]
     },
     "execution_count": 148,
     "metadata": {},
     "output_type": "execute_result"
    }
   ],
   "source": [
    "df_train['dep_hour']= pd.to_datetime(df_train.Dep_Time).dt.hour\n",
    "df_train['dep_min']= pd.to_datetime(df_train.Dep_Time).dt.minute\n",
    "df_train.head(3)"
   ]
  },
  {
   "cell_type": "code",
   "execution_count": 149,
   "id": "9f0aece3",
   "metadata": {},
   "outputs": [
    {
     "data": {
      "text/html": [
       "<div>\n",
       "<style scoped>\n",
       "    .dataframe tbody tr th:only-of-type {\n",
       "        vertical-align: middle;\n",
       "    }\n",
       "\n",
       "    .dataframe tbody tr th {\n",
       "        vertical-align: top;\n",
       "    }\n",
       "\n",
       "    .dataframe thead th {\n",
       "        text-align: right;\n",
       "    }\n",
       "</style>\n",
       "<table border=\"1\" class=\"dataframe\">\n",
       "  <thead>\n",
       "    <tr style=\"text-align: right;\">\n",
       "      <th></th>\n",
       "      <th>Airline</th>\n",
       "      <th>Date_of_Journey</th>\n",
       "      <th>Source</th>\n",
       "      <th>Destination</th>\n",
       "      <th>Route</th>\n",
       "      <th>Dep_Time</th>\n",
       "      <th>Arrival_Time</th>\n",
       "      <th>Duration</th>\n",
       "      <th>Total_Stops</th>\n",
       "      <th>Additional_Info</th>\n",
       "      <th>Duration(mins)</th>\n",
       "      <th>journey_day</th>\n",
       "      <th>journey_month</th>\n",
       "      <th>journey_Year</th>\n",
       "      <th>dep_hour</th>\n",
       "      <th>dep_min</th>\n",
       "    </tr>\n",
       "  </thead>\n",
       "  <tbody>\n",
       "    <tr>\n",
       "      <th>0</th>\n",
       "      <td>Jet Airways</td>\n",
       "      <td>6/06/2019</td>\n",
       "      <td>Delhi</td>\n",
       "      <td>Cochin</td>\n",
       "      <td>DEL → BOM → COK</td>\n",
       "      <td>17:30</td>\n",
       "      <td>04:25 07 Jun</td>\n",
       "      <td>10h 55m</td>\n",
       "      <td>1 stop</td>\n",
       "      <td>No info</td>\n",
       "      <td>655</td>\n",
       "      <td>6</td>\n",
       "      <td>6</td>\n",
       "      <td>2019</td>\n",
       "      <td>17</td>\n",
       "      <td>30</td>\n",
       "    </tr>\n",
       "    <tr>\n",
       "      <th>1</th>\n",
       "      <td>IndiGo</td>\n",
       "      <td>12/05/2019</td>\n",
       "      <td>Kolkata</td>\n",
       "      <td>Banglore</td>\n",
       "      <td>CCU → MAA → BLR</td>\n",
       "      <td>06:20</td>\n",
       "      <td>10:20</td>\n",
       "      <td>4h</td>\n",
       "      <td>1 stop</td>\n",
       "      <td>No info</td>\n",
       "      <td>240</td>\n",
       "      <td>12</td>\n",
       "      <td>5</td>\n",
       "      <td>2019</td>\n",
       "      <td>6</td>\n",
       "      <td>20</td>\n",
       "    </tr>\n",
       "    <tr>\n",
       "      <th>2</th>\n",
       "      <td>Jet Airways</td>\n",
       "      <td>21/05/2019</td>\n",
       "      <td>Delhi</td>\n",
       "      <td>Cochin</td>\n",
       "      <td>DEL → BOM → COK</td>\n",
       "      <td>19:15</td>\n",
       "      <td>19:00 22 May</td>\n",
       "      <td>23h 45m</td>\n",
       "      <td>1 stop</td>\n",
       "      <td>In-flight meal not included</td>\n",
       "      <td>1425</td>\n",
       "      <td>21</td>\n",
       "      <td>5</td>\n",
       "      <td>2019</td>\n",
       "      <td>19</td>\n",
       "      <td>15</td>\n",
       "    </tr>\n",
       "  </tbody>\n",
       "</table>\n",
       "</div>"
      ],
      "text/plain": [
       "       Airline Date_of_Journey   Source Destination            Route Dep_Time  \\\n",
       "0  Jet Airways       6/06/2019    Delhi      Cochin  DEL → BOM → COK    17:30   \n",
       "1       IndiGo      12/05/2019  Kolkata    Banglore  CCU → MAA → BLR    06:20   \n",
       "2  Jet Airways      21/05/2019    Delhi      Cochin  DEL → BOM → COK    19:15   \n",
       "\n",
       "   Arrival_Time Duration Total_Stops              Additional_Info  \\\n",
       "0  04:25 07 Jun  10h 55m      1 stop                      No info   \n",
       "1         10:20       4h      1 stop                      No info   \n",
       "2  19:00 22 May  23h 45m      1 stop  In-flight meal not included   \n",
       "\n",
       "   Duration(mins)  journey_day  journey_month  journey_Year  dep_hour  dep_min  \n",
       "0             655            6              6          2019        17       30  \n",
       "1             240           12              5          2019         6       20  \n",
       "2            1425           21              5          2019        19       15  "
      ]
     },
     "execution_count": 149,
     "metadata": {},
     "output_type": "execute_result"
    }
   ],
   "source": [
    "df_test['dep_hour']= pd.to_datetime(df_test.Dep_Time).dt.hour\n",
    "df_test['dep_min']= pd.to_datetime(df_test.Dep_Time).dt.minute\n",
    "df_test.head(3)"
   ]
  },
  {
   "cell_type": "code",
   "execution_count": 150,
   "id": "c30696fc",
   "metadata": {},
   "outputs": [
    {
     "data": {
      "text/html": [
       "<div>\n",
       "<style scoped>\n",
       "    .dataframe tbody tr th:only-of-type {\n",
       "        vertical-align: middle;\n",
       "    }\n",
       "\n",
       "    .dataframe tbody tr th {\n",
       "        vertical-align: top;\n",
       "    }\n",
       "\n",
       "    .dataframe thead th {\n",
       "        text-align: right;\n",
       "    }\n",
       "</style>\n",
       "<table border=\"1\" class=\"dataframe\">\n",
       "  <thead>\n",
       "    <tr style=\"text-align: right;\">\n",
       "      <th></th>\n",
       "      <th>Airline</th>\n",
       "      <th>Date_of_Journey</th>\n",
       "      <th>Source</th>\n",
       "      <th>Destination</th>\n",
       "      <th>Route</th>\n",
       "      <th>Dep_Time</th>\n",
       "      <th>Arrival_Time</th>\n",
       "      <th>Duration</th>\n",
       "      <th>Total_Stops</th>\n",
       "      <th>Additional_Info</th>\n",
       "      <th>Price</th>\n",
       "      <th>Duration(mins)</th>\n",
       "      <th>journey_day</th>\n",
       "      <th>journey_month</th>\n",
       "      <th>journey_Year</th>\n",
       "      <th>dep_hour</th>\n",
       "      <th>dep_min</th>\n",
       "      <th>arrival_hour</th>\n",
       "      <th>arrival_min</th>\n",
       "    </tr>\n",
       "  </thead>\n",
       "  <tbody>\n",
       "    <tr>\n",
       "      <th>0</th>\n",
       "      <td>IndiGo</td>\n",
       "      <td>24/03/2019</td>\n",
       "      <td>Banglore</td>\n",
       "      <td>New Delhi</td>\n",
       "      <td>BLR → DEL</td>\n",
       "      <td>22:20</td>\n",
       "      <td>01:10 22 Mar</td>\n",
       "      <td>2h 50m</td>\n",
       "      <td>non-stop</td>\n",
       "      <td>No info</td>\n",
       "      <td>3897</td>\n",
       "      <td>170</td>\n",
       "      <td>24</td>\n",
       "      <td>3</td>\n",
       "      <td>2019</td>\n",
       "      <td>22</td>\n",
       "      <td>20</td>\n",
       "      <td>1</td>\n",
       "      <td>10</td>\n",
       "    </tr>\n",
       "    <tr>\n",
       "      <th>1</th>\n",
       "      <td>Air India</td>\n",
       "      <td>1/05/2019</td>\n",
       "      <td>Kolkata</td>\n",
       "      <td>Banglore</td>\n",
       "      <td>CCU → IXR → BBI → BLR</td>\n",
       "      <td>05:50</td>\n",
       "      <td>13:15</td>\n",
       "      <td>7h 25m</td>\n",
       "      <td>2 stops</td>\n",
       "      <td>No info</td>\n",
       "      <td>7662</td>\n",
       "      <td>445</td>\n",
       "      <td>1</td>\n",
       "      <td>5</td>\n",
       "      <td>2019</td>\n",
       "      <td>5</td>\n",
       "      <td>50</td>\n",
       "      <td>13</td>\n",
       "      <td>15</td>\n",
       "    </tr>\n",
       "    <tr>\n",
       "      <th>2</th>\n",
       "      <td>Jet Airways</td>\n",
       "      <td>9/06/2019</td>\n",
       "      <td>Delhi</td>\n",
       "      <td>Cochin</td>\n",
       "      <td>DEL → LKO → BOM → COK</td>\n",
       "      <td>09:25</td>\n",
       "      <td>04:25 10 Jun</td>\n",
       "      <td>19h</td>\n",
       "      <td>2 stops</td>\n",
       "      <td>No info</td>\n",
       "      <td>13882</td>\n",
       "      <td>1140</td>\n",
       "      <td>9</td>\n",
       "      <td>6</td>\n",
       "      <td>2019</td>\n",
       "      <td>9</td>\n",
       "      <td>25</td>\n",
       "      <td>4</td>\n",
       "      <td>25</td>\n",
       "    </tr>\n",
       "  </tbody>\n",
       "</table>\n",
       "</div>"
      ],
      "text/plain": [
       "       Airline Date_of_Journey    Source Destination                  Route  \\\n",
       "0       IndiGo      24/03/2019  Banglore   New Delhi              BLR → DEL   \n",
       "1    Air India       1/05/2019   Kolkata    Banglore  CCU → IXR → BBI → BLR   \n",
       "2  Jet Airways       9/06/2019     Delhi      Cochin  DEL → LKO → BOM → COK   \n",
       "\n",
       "  Dep_Time  Arrival_Time Duration Total_Stops Additional_Info  Price  \\\n",
       "0    22:20  01:10 22 Mar   2h 50m    non-stop         No info   3897   \n",
       "1    05:50         13:15   7h 25m     2 stops         No info   7662   \n",
       "2    09:25  04:25 10 Jun      19h     2 stops         No info  13882   \n",
       "\n",
       "   Duration(mins)  journey_day  journey_month  journey_Year  dep_hour  \\\n",
       "0             170           24              3          2019        22   \n",
       "1             445            1              5          2019         5   \n",
       "2            1140            9              6          2019         9   \n",
       "\n",
       "   dep_min  arrival_hour  arrival_min  \n",
       "0       20             1           10  \n",
       "1       50            13           15  \n",
       "2       25             4           25  "
      ]
     },
     "execution_count": 150,
     "metadata": {},
     "output_type": "execute_result"
    }
   ],
   "source": [
    "df_train['arrival_hour']= pd.to_datetime(df_train.Arrival_Time).dt.hour\n",
    "df_train['arrival_min']= pd.to_datetime(df_train.Arrival_Time).dt.minute\n",
    "df_train.head(3)"
   ]
  },
  {
   "cell_type": "code",
   "execution_count": 151,
   "id": "ad773251",
   "metadata": {},
   "outputs": [
    {
     "data": {
      "text/html": [
       "<div>\n",
       "<style scoped>\n",
       "    .dataframe tbody tr th:only-of-type {\n",
       "        vertical-align: middle;\n",
       "    }\n",
       "\n",
       "    .dataframe tbody tr th {\n",
       "        vertical-align: top;\n",
       "    }\n",
       "\n",
       "    .dataframe thead th {\n",
       "        text-align: right;\n",
       "    }\n",
       "</style>\n",
       "<table border=\"1\" class=\"dataframe\">\n",
       "  <thead>\n",
       "    <tr style=\"text-align: right;\">\n",
       "      <th></th>\n",
       "      <th>Airline</th>\n",
       "      <th>Date_of_Journey</th>\n",
       "      <th>Source</th>\n",
       "      <th>Destination</th>\n",
       "      <th>Route</th>\n",
       "      <th>Dep_Time</th>\n",
       "      <th>Arrival_Time</th>\n",
       "      <th>Duration</th>\n",
       "      <th>Total_Stops</th>\n",
       "      <th>Additional_Info</th>\n",
       "      <th>Duration(mins)</th>\n",
       "      <th>journey_day</th>\n",
       "      <th>journey_month</th>\n",
       "      <th>journey_Year</th>\n",
       "      <th>dep_hour</th>\n",
       "      <th>dep_min</th>\n",
       "      <th>arrival_hour</th>\n",
       "      <th>arrival_min</th>\n",
       "    </tr>\n",
       "  </thead>\n",
       "  <tbody>\n",
       "    <tr>\n",
       "      <th>0</th>\n",
       "      <td>Jet Airways</td>\n",
       "      <td>6/06/2019</td>\n",
       "      <td>Delhi</td>\n",
       "      <td>Cochin</td>\n",
       "      <td>DEL → BOM → COK</td>\n",
       "      <td>17:30</td>\n",
       "      <td>04:25 07 Jun</td>\n",
       "      <td>10h 55m</td>\n",
       "      <td>1 stop</td>\n",
       "      <td>No info</td>\n",
       "      <td>655</td>\n",
       "      <td>6</td>\n",
       "      <td>6</td>\n",
       "      <td>2019</td>\n",
       "      <td>17</td>\n",
       "      <td>30</td>\n",
       "      <td>4</td>\n",
       "      <td>25</td>\n",
       "    </tr>\n",
       "    <tr>\n",
       "      <th>1</th>\n",
       "      <td>IndiGo</td>\n",
       "      <td>12/05/2019</td>\n",
       "      <td>Kolkata</td>\n",
       "      <td>Banglore</td>\n",
       "      <td>CCU → MAA → BLR</td>\n",
       "      <td>06:20</td>\n",
       "      <td>10:20</td>\n",
       "      <td>4h</td>\n",
       "      <td>1 stop</td>\n",
       "      <td>No info</td>\n",
       "      <td>240</td>\n",
       "      <td>12</td>\n",
       "      <td>5</td>\n",
       "      <td>2019</td>\n",
       "      <td>6</td>\n",
       "      <td>20</td>\n",
       "      <td>10</td>\n",
       "      <td>20</td>\n",
       "    </tr>\n",
       "    <tr>\n",
       "      <th>2</th>\n",
       "      <td>Jet Airways</td>\n",
       "      <td>21/05/2019</td>\n",
       "      <td>Delhi</td>\n",
       "      <td>Cochin</td>\n",
       "      <td>DEL → BOM → COK</td>\n",
       "      <td>19:15</td>\n",
       "      <td>19:00 22 May</td>\n",
       "      <td>23h 45m</td>\n",
       "      <td>1 stop</td>\n",
       "      <td>In-flight meal not included</td>\n",
       "      <td>1425</td>\n",
       "      <td>21</td>\n",
       "      <td>5</td>\n",
       "      <td>2019</td>\n",
       "      <td>19</td>\n",
       "      <td>15</td>\n",
       "      <td>19</td>\n",
       "      <td>0</td>\n",
       "    </tr>\n",
       "  </tbody>\n",
       "</table>\n",
       "</div>"
      ],
      "text/plain": [
       "       Airline Date_of_Journey   Source Destination            Route Dep_Time  \\\n",
       "0  Jet Airways       6/06/2019    Delhi      Cochin  DEL → BOM → COK    17:30   \n",
       "1       IndiGo      12/05/2019  Kolkata    Banglore  CCU → MAA → BLR    06:20   \n",
       "2  Jet Airways      21/05/2019    Delhi      Cochin  DEL → BOM → COK    19:15   \n",
       "\n",
       "   Arrival_Time Duration Total_Stops              Additional_Info  \\\n",
       "0  04:25 07 Jun  10h 55m      1 stop                      No info   \n",
       "1         10:20       4h      1 stop                      No info   \n",
       "2  19:00 22 May  23h 45m      1 stop  In-flight meal not included   \n",
       "\n",
       "   Duration(mins)  journey_day  journey_month  journey_Year  dep_hour  \\\n",
       "0             655            6              6          2019        17   \n",
       "1             240           12              5          2019         6   \n",
       "2            1425           21              5          2019        19   \n",
       "\n",
       "   dep_min  arrival_hour  arrival_min  \n",
       "0       30             4           25  \n",
       "1       20            10           20  \n",
       "2       15            19            0  "
      ]
     },
     "execution_count": 151,
     "metadata": {},
     "output_type": "execute_result"
    }
   ],
   "source": [
    "df_test['arrival_hour']= pd.to_datetime(df_test.Arrival_Time).dt.hour\n",
    "df_test['arrival_min']= pd.to_datetime(df_test.Arrival_Time).dt.minute\n",
    "df_test.head(3)"
   ]
  },
  {
   "cell_type": "code",
   "execution_count": 152,
   "id": "963d4aec",
   "metadata": {},
   "outputs": [],
   "source": [
    "# dropping unwanted columns\n",
    "df_train.drop(['Date_of_Journey', 'Dep_Time', 'Arrival_Time', 'Duration'],axis=1 , inplace=True)\n",
    "df_test.drop(['Date_of_Journey', 'Dep_Time', 'Arrival_Time', 'Duration'],axis=1 , inplace=True)"
   ]
  },
  {
   "cell_type": "code",
   "execution_count": 153,
   "id": "9e807749",
   "metadata": {},
   "outputs": [
    {
     "data": {
      "text/html": [
       "<div>\n",
       "<style scoped>\n",
       "    .dataframe tbody tr th:only-of-type {\n",
       "        vertical-align: middle;\n",
       "    }\n",
       "\n",
       "    .dataframe tbody tr th {\n",
       "        vertical-align: top;\n",
       "    }\n",
       "\n",
       "    .dataframe thead th {\n",
       "        text-align: right;\n",
       "    }\n",
       "</style>\n",
       "<table border=\"1\" class=\"dataframe\">\n",
       "  <thead>\n",
       "    <tr style=\"text-align: right;\">\n",
       "      <th></th>\n",
       "      <th>Airline</th>\n",
       "      <th>Source</th>\n",
       "      <th>Destination</th>\n",
       "      <th>Route</th>\n",
       "      <th>Total_Stops</th>\n",
       "      <th>Additional_Info</th>\n",
       "      <th>Price</th>\n",
       "      <th>Duration(mins)</th>\n",
       "      <th>journey_day</th>\n",
       "      <th>journey_month</th>\n",
       "      <th>journey_Year</th>\n",
       "      <th>dep_hour</th>\n",
       "      <th>dep_min</th>\n",
       "      <th>arrival_hour</th>\n",
       "      <th>arrival_min</th>\n",
       "    </tr>\n",
       "  </thead>\n",
       "  <tbody>\n",
       "    <tr>\n",
       "      <th>0</th>\n",
       "      <td>IndiGo</td>\n",
       "      <td>Banglore</td>\n",
       "      <td>New Delhi</td>\n",
       "      <td>BLR → DEL</td>\n",
       "      <td>non-stop</td>\n",
       "      <td>No info</td>\n",
       "      <td>3897</td>\n",
       "      <td>170</td>\n",
       "      <td>24</td>\n",
       "      <td>3</td>\n",
       "      <td>2019</td>\n",
       "      <td>22</td>\n",
       "      <td>20</td>\n",
       "      <td>1</td>\n",
       "      <td>10</td>\n",
       "    </tr>\n",
       "    <tr>\n",
       "      <th>1</th>\n",
       "      <td>Air India</td>\n",
       "      <td>Kolkata</td>\n",
       "      <td>Banglore</td>\n",
       "      <td>CCU → IXR → BBI → BLR</td>\n",
       "      <td>2 stops</td>\n",
       "      <td>No info</td>\n",
       "      <td>7662</td>\n",
       "      <td>445</td>\n",
       "      <td>1</td>\n",
       "      <td>5</td>\n",
       "      <td>2019</td>\n",
       "      <td>5</td>\n",
       "      <td>50</td>\n",
       "      <td>13</td>\n",
       "      <td>15</td>\n",
       "    </tr>\n",
       "    <tr>\n",
       "      <th>2</th>\n",
       "      <td>Jet Airways</td>\n",
       "      <td>Delhi</td>\n",
       "      <td>Cochin</td>\n",
       "      <td>DEL → LKO → BOM → COK</td>\n",
       "      <td>2 stops</td>\n",
       "      <td>No info</td>\n",
       "      <td>13882</td>\n",
       "      <td>1140</td>\n",
       "      <td>9</td>\n",
       "      <td>6</td>\n",
       "      <td>2019</td>\n",
       "      <td>9</td>\n",
       "      <td>25</td>\n",
       "      <td>4</td>\n",
       "      <td>25</td>\n",
       "    </tr>\n",
       "  </tbody>\n",
       "</table>\n",
       "</div>"
      ],
      "text/plain": [
       "       Airline    Source Destination                  Route Total_Stops  \\\n",
       "0       IndiGo  Banglore   New Delhi              BLR → DEL    non-stop   \n",
       "1    Air India   Kolkata    Banglore  CCU → IXR → BBI → BLR     2 stops   \n",
       "2  Jet Airways     Delhi      Cochin  DEL → LKO → BOM → COK     2 stops   \n",
       "\n",
       "  Additional_Info  Price  Duration(mins)  journey_day  journey_month  \\\n",
       "0         No info   3897             170           24              3   \n",
       "1         No info   7662             445            1              5   \n",
       "2         No info  13882            1140            9              6   \n",
       "\n",
       "   journey_Year  dep_hour  dep_min  arrival_hour  arrival_min  \n",
       "0          2019        22       20             1           10  \n",
       "1          2019         5       50            13           15  \n",
       "2          2019         9       25             4           25  "
      ]
     },
     "execution_count": 153,
     "metadata": {},
     "output_type": "execute_result"
    }
   ],
   "source": [
    "df_train.head(3)"
   ]
  },
  {
   "cell_type": "code",
   "execution_count": 154,
   "id": "495589f9",
   "metadata": {},
   "outputs": [
    {
     "data": {
      "text/html": [
       "<div>\n",
       "<style scoped>\n",
       "    .dataframe tbody tr th:only-of-type {\n",
       "        vertical-align: middle;\n",
       "    }\n",
       "\n",
       "    .dataframe tbody tr th {\n",
       "        vertical-align: top;\n",
       "    }\n",
       "\n",
       "    .dataframe thead th {\n",
       "        text-align: right;\n",
       "    }\n",
       "</style>\n",
       "<table border=\"1\" class=\"dataframe\">\n",
       "  <thead>\n",
       "    <tr style=\"text-align: right;\">\n",
       "      <th></th>\n",
       "      <th>Airline</th>\n",
       "      <th>Source</th>\n",
       "      <th>Destination</th>\n",
       "      <th>Route</th>\n",
       "      <th>Total_Stops</th>\n",
       "      <th>Additional_Info</th>\n",
       "      <th>Duration(mins)</th>\n",
       "      <th>journey_day</th>\n",
       "      <th>journey_month</th>\n",
       "      <th>journey_Year</th>\n",
       "      <th>dep_hour</th>\n",
       "      <th>dep_min</th>\n",
       "      <th>arrival_hour</th>\n",
       "      <th>arrival_min</th>\n",
       "    </tr>\n",
       "  </thead>\n",
       "  <tbody>\n",
       "    <tr>\n",
       "      <th>0</th>\n",
       "      <td>Jet Airways</td>\n",
       "      <td>Delhi</td>\n",
       "      <td>Cochin</td>\n",
       "      <td>DEL → BOM → COK</td>\n",
       "      <td>1 stop</td>\n",
       "      <td>No info</td>\n",
       "      <td>655</td>\n",
       "      <td>6</td>\n",
       "      <td>6</td>\n",
       "      <td>2019</td>\n",
       "      <td>17</td>\n",
       "      <td>30</td>\n",
       "      <td>4</td>\n",
       "      <td>25</td>\n",
       "    </tr>\n",
       "    <tr>\n",
       "      <th>1</th>\n",
       "      <td>IndiGo</td>\n",
       "      <td>Kolkata</td>\n",
       "      <td>Banglore</td>\n",
       "      <td>CCU → MAA → BLR</td>\n",
       "      <td>1 stop</td>\n",
       "      <td>No info</td>\n",
       "      <td>240</td>\n",
       "      <td>12</td>\n",
       "      <td>5</td>\n",
       "      <td>2019</td>\n",
       "      <td>6</td>\n",
       "      <td>20</td>\n",
       "      <td>10</td>\n",
       "      <td>20</td>\n",
       "    </tr>\n",
       "    <tr>\n",
       "      <th>2</th>\n",
       "      <td>Jet Airways</td>\n",
       "      <td>Delhi</td>\n",
       "      <td>Cochin</td>\n",
       "      <td>DEL → BOM → COK</td>\n",
       "      <td>1 stop</td>\n",
       "      <td>In-flight meal not included</td>\n",
       "      <td>1425</td>\n",
       "      <td>21</td>\n",
       "      <td>5</td>\n",
       "      <td>2019</td>\n",
       "      <td>19</td>\n",
       "      <td>15</td>\n",
       "      <td>19</td>\n",
       "      <td>0</td>\n",
       "    </tr>\n",
       "  </tbody>\n",
       "</table>\n",
       "</div>"
      ],
      "text/plain": [
       "       Airline   Source Destination            Route Total_Stops  \\\n",
       "0  Jet Airways    Delhi      Cochin  DEL → BOM → COK      1 stop   \n",
       "1       IndiGo  Kolkata    Banglore  CCU → MAA → BLR      1 stop   \n",
       "2  Jet Airways    Delhi      Cochin  DEL → BOM → COK      1 stop   \n",
       "\n",
       "               Additional_Info  Duration(mins)  journey_day  journey_month  \\\n",
       "0                      No info             655            6              6   \n",
       "1                      No info             240           12              5   \n",
       "2  In-flight meal not included            1425           21              5   \n",
       "\n",
       "   journey_Year  dep_hour  dep_min  arrival_hour  arrival_min  \n",
       "0          2019        17       30             4           25  \n",
       "1          2019         6       20            10           20  \n",
       "2          2019        19       15            19            0  "
      ]
     },
     "execution_count": 154,
     "metadata": {},
     "output_type": "execute_result"
    }
   ],
   "source": [
    "df_test.head(3)"
   ]
  },
  {
   "cell_type": "code",
   "execution_count": 155,
   "id": "4b5e8e6e",
   "metadata": {},
   "outputs": [
    {
     "name": "stdout",
     "output_type": "stream",
     "text": [
      "Shape of train dataset:  (10682, 15)\n",
      "shape of test dataset:  (2671, 14)\n"
     ]
    }
   ],
   "source": [
    "# final dataset shape\n",
    "print('Shape of train dataset: ', df_train.shape)\n",
    "print('shape of test dataset: ', df_test.shape)"
   ]
  },
  {
   "cell_type": "markdown",
   "id": "7675ae38",
   "metadata": {},
   "source": [
    "# Vizualisation"
   ]
  },
  {
   "cell_type": "code",
   "execution_count": 168,
   "id": "f5bab65c",
   "metadata": {},
   "outputs": [
    {
     "data": {
      "image/png": "[encoded data removed]",
      "text/plain": [
       "<Figure size 1080x432 with 1 Axes>"
      ]
     },
     "metadata": {
      "needs_background": "light"
     },
     "output_type": "display_data"
    },
    {
     "name": "stdout",
     "output_type": "stream",
     "text": [
      "No of different Airlines:  12\n"
     ]
    },
    {
     "data": {
      "text/plain": [
       "Jet Airways                          3849\n",
       "IndiGo                               2053\n",
       "Air India                            1751\n",
       "Multiple carriers                    1196\n",
       "SpiceJet                              818\n",
       "Vistara                               479\n",
       "Air Asia                              319\n",
       "GoAir                                 194\n",
       "Multiple carriers Premium economy      13\n",
       "Jet Airways Business                    6\n",
       "Vistara Premium economy                 3\n",
       "Trujet                                  1\n",
       "Name: Airline, dtype: int64"
      ]
     },
     "execution_count": 168,
     "metadata": {},
     "output_type": "execute_result"
    }
   ],
   "source": [
    "plt.figure(figsize=(15,6))\n",
    "sns.countplot(df_train['Airline'], palette='YlGn')\n",
    "plt.title('Airlines', fontsize=15)\n",
    "plt.xticks(rotation=90, fontsize=12)\n",
    "plt.xlabel('Airline', fontsize=12)\n",
    "plt.ylabel('count', fontsize=12)\n",
    "plt.show()\n",
    "\n",
    "\n",
    "\n",
    "print('No of different Airlines: ', len(df_train['Airline'].unique()))\n",
    "df_train['Airline'].value_counts()"
   ]
  },
  {
   "cell_type": "markdown",
   "id": "6d33806a",
   "metadata": {},
   "source": [
    "### Observations"
   ]
  },
  {
   "cell_type": "markdown",
   "id": "4953c620",
   "metadata": {},
   "source": [
    "* Dataset has records of 12 differents airlines.\n",
    "* Maximum no of records are of Jet Airways airlines(3849)\n",
    "* Trujet airlines have onlyone record."
   ]
  },
  {
   "cell_type": "code",
   "execution_count": 169,
   "id": "a5b2d9c9",
   "metadata": {},
   "outputs": [
    {
     "data": {
      "image/png": "[encoded data removed]",
      "text/plain": [
       "<Figure size 1080x432 with 1 Axes>"
      ]
     },
     "metadata": {
      "needs_background": "light"
     },
     "output_type": "display_data"
    },
    {
     "name": "stdout",
     "output_type": "stream",
     "text": [
      "No of different Sources:  5\n"
     ]
    },
    {
     "data": {
      "text/plain": [
       "Delhi       4536\n",
       "Kolkata     2871\n",
       "Banglore    2197\n",
       "Mumbai       697\n",
       "Chennai      381\n",
       "Name: Source, dtype: int64"
      ]
     },
     "execution_count": 169,
     "metadata": {},
     "output_type": "execute_result"
    }
   ],
   "source": [
    "\n",
    "plt.figure(figsize=(15,6))\n",
    "sns.countplot(df_train['Source'], palette='BuGn')\n",
    "plt.title('Source', fontsize=15)\n",
    "plt.xticks(rotation=00, fontsize=12)\n",
    "plt.xlabel('Source', fontsize=12)\n",
    "plt.ylabel('count', fontsize=12)\n",
    "plt.show()\n",
    "\n",
    "\n",
    "\n",
    "print('No of different Sources: ', len(df_train['Source'].unique()))\n",
    "df_train['Source'].value_counts()"
   ]
  },
  {
   "cell_type": "markdown",
   "id": "615de939",
   "metadata": {},
   "source": [
    "### Observations"
   ]
  },
  {
   "cell_type": "markdown",
   "id": "df07e514",
   "metadata": {},
   "source": [
    "* There are total 5 different sources for flights.\n",
    "* Most number of flights took off from Delhi(4536 flights), Kolkata(2871 flights) and Bangalore(2197 flights)\n",
    "* Chennai comes in last in sources for flights"
   ]
  },
  {
   "cell_type": "code",
   "execution_count": 170,
   "id": "1c858b69",
   "metadata": {},
   "outputs": [
    {
     "data": {
      "image/png": "[encoded data removed]",
      "text/plain": [
       "<Figure size 1080x432 with 1 Axes>"
      ]
     },
     "metadata": {
      "needs_background": "light"
     },
     "output_type": "display_data"
    },
    {
     "name": "stdout",
     "output_type": "stream",
     "text": [
      "No of different Destinations:  6\n"
     ]
    },
    {
     "data": {
      "text/plain": [
       "Cochin       4536\n",
       "Banglore     2871\n",
       "Delhi        1265\n",
       "New Delhi     932\n",
       "Hyderabad     697\n",
       "Kolkata       381\n",
       "Name: Destination, dtype: int64"
      ]
     },
     "execution_count": 170,
     "metadata": {},
     "output_type": "execute_result"
    }
   ],
   "source": [
    "\n",
    "plt.figure(figsize=(15,6))\n",
    "sns.countplot(df_train['Destination'], palette='Set1_r')\n",
    "plt.title('Destination', fontsize=15)\n",
    "plt.xticks(rotation=00, fontsize=12)\n",
    "plt.xlabel('Destination', fontsize=12)\n",
    "plt.ylabel('count', fontsize=12)\n",
    "plt.show()\n",
    "\n",
    "\n",
    "\n",
    "print('No of different Destinations: ', len(df_train['Destination'].unique()))\n",
    "df_train['Destination'].value_counts()"
   ]
  },
  {
   "cell_type": "markdown",
   "id": "f035f1c9",
   "metadata": {},
   "source": [
    "### Observations"
   ]
  },
  {
   "cell_type": "markdown",
   "id": "73cec1be",
   "metadata": {},
   "source": [
    "* There are total 6 different destination people went for within India in 2019\n",
    "* Most visited place by flight is Cochin (4536 flights) followed up by Bangalore(2871 flights) in 2019\n",
    "* Least destinated place is Kolkata only 381 flights went to Kolkata."
   ]
  },
  {
   "cell_type": "code",
   "execution_count": 171,
   "id": "9ba2b367",
   "metadata": {},
   "outputs": [
    {
     "data": {
      "image/png": "[encoded data removed]",
      "text/plain": [
       "<Figure size 1800x720 with 1 Axes>"
      ]
     },
     "metadata": {
      "needs_background": "light"
     },
     "output_type": "display_data"
    },
    {
     "name": "stdout",
     "output_type": "stream",
     "text": [
      "No of different Route:  128\n"
     ]
    },
    {
     "data": {
      "text/plain": [
       "DEL → BOM → COK          2376\n",
       "BLR → DEL                1552\n",
       "CCU → BOM → BLR           979\n",
       "CCU → BLR                 724\n",
       "BOM → HYD                 621\n",
       "                         ... \n",
       "CCU → VTZ → BLR             1\n",
       "CCU → IXZ → MAA → BLR       1\n",
       "BOM → COK → MAA → HYD       1\n",
       "BOM → CCU → HYD             1\n",
       "BOM → BBI → HYD             1\n",
       "Name: Route, Length: 128, dtype: int64"
      ]
     },
     "execution_count": 171,
     "metadata": {},
     "output_type": "execute_result"
    }
   ],
   "source": [
    "plt.figure(figsize=(25,10))\n",
    "sns.countplot(df_train['Route'], palette='Set1')\n",
    "plt.title('Route', fontsize=15)\n",
    "plt.xticks(rotation=90, fontsize=12)\n",
    "plt.xlabel('Route', fontsize=12)\n",
    "plt.ylabel('count', fontsize=12)\n",
    "plt.show()\n",
    "\n",
    "\n",
    "print('No of different Route: ', len(df_train['Route'].unique()))\n",
    "df_train['Route'].value_counts()"
   ]
  },
  {
   "cell_type": "markdown",
   "id": "cda0fdcc",
   "metadata": {},
   "source": [
    "### Observations"
   ]
  },
  {
   "cell_type": "markdown",
   "id": "3f5702a8",
   "metadata": {},
   "source": [
    "* There are recors of total 128 different routes\n",
    "* Most used route by flights is 'DEL → BOM → COK'(2376) in 2019\n",
    "* Second omost used route is BLR --> DEL (1552) in 2019"
   ]
  },
  {
   "cell_type": "code",
   "execution_count": 375,
   "id": "833fd831",
   "metadata": {},
   "outputs": [
    {
     "data": {
      "image/png": "[encoded data removed]",
      "text/plain": [
       "<Figure size 864x720 with 1 Axes>"
      ]
     },
     "metadata": {
      "needs_background": "light"
     },
     "output_type": "display_data"
    },
    {
     "name": "stdout",
     "output_type": "stream",
     "text": [
      "No of different Route:  4\n"
     ]
    },
    {
     "data": {
      "text/plain": [
       "5    3465\n",
       "6    3414\n",
       "3    2724\n",
       "4    1079\n",
       "Name: journey_month, dtype: int64"
      ]
     },
     "execution_count": 375,
     "metadata": {},
     "output_type": "execute_result"
    }
   ],
   "source": [
    "plt.figure(figsize=(12,10))\n",
    "sns.countplot(df_train['journey_month'], palette='Set2_r')\n",
    "plt.title('journey_month', fontsize=15)\n",
    "plt.xticks([0,1,2,3],['March', 'April', 'May', 'june'], rotation=0, fontsize=12)\n",
    "plt.xlabel('journey_month', fontsize=12)\n",
    "plt.ylabel('count', fontsize=12)\n",
    "plt.show()\n",
    "\n",
    "\n",
    "print('No of different Route: ', len(df_train['journey_month'].unique()))\n",
    "df_train['journey_month'].value_counts()"
   ]
  },
  {
   "cell_type": "markdown",
   "id": "cc6b624d",
   "metadata": {},
   "source": [
    "### Observations"
   ]
  },
  {
   "cell_type": "markdown",
   "id": "b6069144",
   "metadata": {},
   "source": [
    "* Most number of flights took off in the month of May(3465) and June(3414)\n",
    "* least number of flights took off in the month of April"
   ]
  },
  {
   "cell_type": "code",
   "execution_count": 379,
   "id": "322d96e9",
   "metadata": {},
   "outputs": [
    {
     "data": {
      "image/png": "[encoded data removed]",
      "text/plain": [
       "<Figure size 1080x1080 with 2 Axes>"
      ]
     },
     "metadata": {
      "needs_background": "light"
     },
     "output_type": "display_data"
    }
   ],
   "source": [
    "# Average price per year\n",
    "plt.figure(figsize=(15,15))\n",
    "\n",
    "plt.subplot(2,1,1)\n",
    "sns.barplot(df_train['Additional_Info'], df_train['Price'], palette='Greys')\n",
    "plt.title('price of flights based on Additional_Info(bar plot)', fontsize=15, color='maroon')\n",
    "plt.xticks(rotation=30)\n",
    "plt.xlabel('Additional_Info', fontsize=12)\n",
    "plt.ylabel('price', fontsize=12)\n",
    "\n",
    "plt.subplot(2,1,2)\n",
    "sns.lineplot(df_train['Additional_Info'], df_train['Price'], color='red', linewidth=2)\n",
    "plt.title('price of flights based on Additional_Info(line plot)', fontsize=15, color='maroon')\n",
    "plt.xticks(rotation=30)\n",
    "plt.xlabel('Additional_Info', fontsize=12)\n",
    "plt.ylabel(' price', fontsize=12)\n",
    "\n",
    "plt.show()\n"
   ]
  },
  {
   "cell_type": "markdown",
   "id": "991f4677",
   "metadata": {},
   "source": [
    "### Observations"
   ]
  },
  {
   "cell_type": "markdown",
   "id": "7268697e",
   "metadata": {},
   "source": [
    "\n",
    "* Buisness class flights are the expensie ones compared to other flights"
   ]
  },
  {
   "cell_type": "code",
   "execution_count": 383,
   "id": "1dcaa212",
   "metadata": {},
   "outputs": [
    {
     "data": {
      "image/png": "[encoded data removed]",
      "text/plain": [
       "<Figure size 864x720 with 1 Axes>"
      ]
     },
     "metadata": {
      "needs_background": "light"
     },
     "output_type": "display_data"
    },
    {
     "name": "stdout",
     "output_type": "stream",
     "text": [
      "No of different Additional_Info:  10\n"
     ]
    },
    {
     "data": {
      "text/plain": [
       "No info                         8344\n",
       "In-flight meal not included     1982\n",
       "No check-in baggage included     320\n",
       "1 Long layover                    19\n",
       "Change airports                    7\n",
       "Business class                     4\n",
       "No Info                            3\n",
       "1 Short layover                    1\n",
       "Red-eye flight                     1\n",
       "2 Long layover                     1\n",
       "Name: Additional_Info, dtype: int64"
      ]
     },
     "execution_count": 383,
     "metadata": {},
     "output_type": "execute_result"
    }
   ],
   "source": [
    "plt.figure(figsize=(12,10))\n",
    "sns.countplot(df_train['Additional_Info'], palette='Set3_r')\n",
    "plt.title('Additional_Info', fontsize=15)\n",
    "plt.xticks(rotation=90, fontsize=12)\n",
    "plt.xlabel('Additional_Info', fontsize=12)\n",
    "plt.ylabel('count', fontsize=12)\n",
    "plt.show()\n",
    "\n",
    "\n",
    "print('No of different Additional_Info: ', len(df_train['Additional_Info'].unique()))\n",
    "df_train['Additional_Info'].value_counts()"
   ]
  },
  {
   "cell_type": "markdown",
   "id": "5b0988ac",
   "metadata": {},
   "source": [
    "### Observations"
   ]
  },
  {
   "cell_type": "markdown",
   "id": "c1384209",
   "metadata": {},
   "source": [
    "* Dataset doestnot have additional information of 8344 flights\n",
    "* Most used flights type is 'In-flight meal not included'"
   ]
  },
  {
   "cell_type": "markdown",
   "id": "0b083be5",
   "metadata": {},
   "source": [
    "# Describing dataset"
   ]
  },
  {
   "cell_type": "code",
   "execution_count": 172,
   "id": "daf9c0a9",
   "metadata": {
    "scrolled": true
   },
   "outputs": [
    {
     "data": {
      "text/html": [
       "<div>\n",
       "<style scoped>\n",
       "    .dataframe tbody tr th:only-of-type {\n",
       "        vertical-align: middle;\n",
       "    }\n",
       "\n",
       "    .dataframe tbody tr th {\n",
       "        vertical-align: top;\n",
       "    }\n",
       "\n",
       "    .dataframe thead th {\n",
       "        text-align: right;\n",
       "    }\n",
       "</style>\n",
       "<table border=\"1\" class=\"dataframe\">\n",
       "  <thead>\n",
       "    <tr style=\"text-align: right;\">\n",
       "      <th></th>\n",
       "      <th>count</th>\n",
       "      <th>unique</th>\n",
       "      <th>top</th>\n",
       "      <th>freq</th>\n",
       "      <th>mean</th>\n",
       "      <th>std</th>\n",
       "      <th>min</th>\n",
       "      <th>25%</th>\n",
       "      <th>50%</th>\n",
       "      <th>75%</th>\n",
       "      <th>max</th>\n",
       "    </tr>\n",
       "  </thead>\n",
       "  <tbody>\n",
       "    <tr>\n",
       "      <th>Airline</th>\n",
       "      <td>10682</td>\n",
       "      <td>12</td>\n",
       "      <td>Jet Airways</td>\n",
       "      <td>3849</td>\n",
       "      <td>NaN</td>\n",
       "      <td>NaN</td>\n",
       "      <td>NaN</td>\n",
       "      <td>NaN</td>\n",
       "      <td>NaN</td>\n",
       "      <td>NaN</td>\n",
       "      <td>NaN</td>\n",
       "    </tr>\n",
       "    <tr>\n",
       "      <th>Source</th>\n",
       "      <td>10682</td>\n",
       "      <td>5</td>\n",
       "      <td>Delhi</td>\n",
       "      <td>4536</td>\n",
       "      <td>NaN</td>\n",
       "      <td>NaN</td>\n",
       "      <td>NaN</td>\n",
       "      <td>NaN</td>\n",
       "      <td>NaN</td>\n",
       "      <td>NaN</td>\n",
       "      <td>NaN</td>\n",
       "    </tr>\n",
       "    <tr>\n",
       "      <th>Destination</th>\n",
       "      <td>10682</td>\n",
       "      <td>6</td>\n",
       "      <td>Cochin</td>\n",
       "      <td>4536</td>\n",
       "      <td>NaN</td>\n",
       "      <td>NaN</td>\n",
       "      <td>NaN</td>\n",
       "      <td>NaN</td>\n",
       "      <td>NaN</td>\n",
       "      <td>NaN</td>\n",
       "      <td>NaN</td>\n",
       "    </tr>\n",
       "    <tr>\n",
       "      <th>Route</th>\n",
       "      <td>10682</td>\n",
       "      <td>128</td>\n",
       "      <td>DEL → BOM → COK</td>\n",
       "      <td>2376</td>\n",
       "      <td>NaN</td>\n",
       "      <td>NaN</td>\n",
       "      <td>NaN</td>\n",
       "      <td>NaN</td>\n",
       "      <td>NaN</td>\n",
       "      <td>NaN</td>\n",
       "      <td>NaN</td>\n",
       "    </tr>\n",
       "    <tr>\n",
       "      <th>Total_Stops</th>\n",
       "      <td>10682</td>\n",
       "      <td>5</td>\n",
       "      <td>1 stop</td>\n",
       "      <td>5625</td>\n",
       "      <td>NaN</td>\n",
       "      <td>NaN</td>\n",
       "      <td>NaN</td>\n",
       "      <td>NaN</td>\n",
       "      <td>NaN</td>\n",
       "      <td>NaN</td>\n",
       "      <td>NaN</td>\n",
       "    </tr>\n",
       "    <tr>\n",
       "      <th>Additional_Info</th>\n",
       "      <td>10682</td>\n",
       "      <td>10</td>\n",
       "      <td>No info</td>\n",
       "      <td>8344</td>\n",
       "      <td>NaN</td>\n",
       "      <td>NaN</td>\n",
       "      <td>NaN</td>\n",
       "      <td>NaN</td>\n",
       "      <td>NaN</td>\n",
       "      <td>NaN</td>\n",
       "      <td>NaN</td>\n",
       "    </tr>\n",
       "    <tr>\n",
       "      <th>Price</th>\n",
       "      <td>10682.0</td>\n",
       "      <td>NaN</td>\n",
       "      <td>NaN</td>\n",
       "      <td>NaN</td>\n",
       "      <td>9087.214567</td>\n",
       "      <td>4611.54881</td>\n",
       "      <td>1759.0</td>\n",
       "      <td>5277.0</td>\n",
       "      <td>8372.0</td>\n",
       "      <td>12373.0</td>\n",
       "      <td>79512.0</td>\n",
       "    </tr>\n",
       "    <tr>\n",
       "      <th>Duration(mins)</th>\n",
       "      <td>10682.0</td>\n",
       "      <td>NaN</td>\n",
       "      <td>NaN</td>\n",
       "      <td>NaN</td>\n",
       "      <td>643.020502</td>\n",
       "      <td>507.830133</td>\n",
       "      <td>5.0</td>\n",
       "      <td>170.0</td>\n",
       "      <td>520.0</td>\n",
       "      <td>930.0</td>\n",
       "      <td>2860.0</td>\n",
       "    </tr>\n",
       "    <tr>\n",
       "      <th>journey_day</th>\n",
       "      <td>10682.0</td>\n",
       "      <td>NaN</td>\n",
       "      <td>NaN</td>\n",
       "      <td>NaN</td>\n",
       "      <td>13.509081</td>\n",
       "      <td>8.479363</td>\n",
       "      <td>1.0</td>\n",
       "      <td>6.0</td>\n",
       "      <td>12.0</td>\n",
       "      <td>21.0</td>\n",
       "      <td>27.0</td>\n",
       "    </tr>\n",
       "    <tr>\n",
       "      <th>journey_month</th>\n",
       "      <td>10682.0</td>\n",
       "      <td>NaN</td>\n",
       "      <td>NaN</td>\n",
       "      <td>NaN</td>\n",
       "      <td>4.708575</td>\n",
       "      <td>1.164408</td>\n",
       "      <td>3.0</td>\n",
       "      <td>3.0</td>\n",
       "      <td>5.0</td>\n",
       "      <td>6.0</td>\n",
       "      <td>6.0</td>\n",
       "    </tr>\n",
       "    <tr>\n",
       "      <th>journey_Year</th>\n",
       "      <td>10682.0</td>\n",
       "      <td>NaN</td>\n",
       "      <td>NaN</td>\n",
       "      <td>NaN</td>\n",
       "      <td>2019.0</td>\n",
       "      <td>0.0</td>\n",
       "      <td>2019.0</td>\n",
       "      <td>2019.0</td>\n",
       "      <td>2019.0</td>\n",
       "      <td>2019.0</td>\n",
       "      <td>2019.0</td>\n",
       "    </tr>\n",
       "    <tr>\n",
       "      <th>dep_hour</th>\n",
       "      <td>10682.0</td>\n",
       "      <td>NaN</td>\n",
       "      <td>NaN</td>\n",
       "      <td>NaN</td>\n",
       "      <td>12.491013</td>\n",
       "      <td>5.74882</td>\n",
       "      <td>0.0</td>\n",
       "      <td>8.0</td>\n",
       "      <td>11.0</td>\n",
       "      <td>18.0</td>\n",
       "      <td>23.0</td>\n",
       "    </tr>\n",
       "    <tr>\n",
       "      <th>dep_min</th>\n",
       "      <td>10682.0</td>\n",
       "      <td>NaN</td>\n",
       "      <td>NaN</td>\n",
       "      <td>NaN</td>\n",
       "      <td>24.409287</td>\n",
       "      <td>18.767801</td>\n",
       "      <td>0.0</td>\n",
       "      <td>5.0</td>\n",
       "      <td>25.0</td>\n",
       "      <td>40.0</td>\n",
       "      <td>55.0</td>\n",
       "    </tr>\n",
       "    <tr>\n",
       "      <th>arrival_hour</th>\n",
       "      <td>10682.0</td>\n",
       "      <td>NaN</td>\n",
       "      <td>NaN</td>\n",
       "      <td>NaN</td>\n",
       "      <td>13.349186</td>\n",
       "      <td>6.859317</td>\n",
       "      <td>0.0</td>\n",
       "      <td>8.0</td>\n",
       "      <td>14.0</td>\n",
       "      <td>19.0</td>\n",
       "      <td>23.0</td>\n",
       "    </tr>\n",
       "    <tr>\n",
       "      <th>arrival_min</th>\n",
       "      <td>10682.0</td>\n",
       "      <td>NaN</td>\n",
       "      <td>NaN</td>\n",
       "      <td>NaN</td>\n",
       "      <td>24.690601</td>\n",
       "      <td>16.506808</td>\n",
       "      <td>0.0</td>\n",
       "      <td>10.0</td>\n",
       "      <td>25.0</td>\n",
       "      <td>35.0</td>\n",
       "      <td>55.0</td>\n",
       "    </tr>\n",
       "  </tbody>\n",
       "</table>\n",
       "</div>"
      ],
      "text/plain": [
       "                   count unique              top  freq         mean  \\\n",
       "Airline            10682     12      Jet Airways  3849          NaN   \n",
       "Source             10682      5            Delhi  4536          NaN   \n",
       "Destination        10682      6           Cochin  4536          NaN   \n",
       "Route              10682    128  DEL → BOM → COK  2376          NaN   \n",
       "Total_Stops        10682      5           1 stop  5625          NaN   \n",
       "Additional_Info    10682     10          No info  8344          NaN   \n",
       "Price            10682.0    NaN              NaN   NaN  9087.214567   \n",
       "Duration(mins)   10682.0    NaN              NaN   NaN   643.020502   \n",
       "journey_day      10682.0    NaN              NaN   NaN    13.509081   \n",
       "journey_month    10682.0    NaN              NaN   NaN     4.708575   \n",
       "journey_Year     10682.0    NaN              NaN   NaN       2019.0   \n",
       "dep_hour         10682.0    NaN              NaN   NaN    12.491013   \n",
       "dep_min          10682.0    NaN              NaN   NaN    24.409287   \n",
       "arrival_hour     10682.0    NaN              NaN   NaN    13.349186   \n",
       "arrival_min      10682.0    NaN              NaN   NaN    24.690601   \n",
       "\n",
       "                        std     min     25%     50%      75%      max  \n",
       "Airline                 NaN     NaN     NaN     NaN      NaN      NaN  \n",
       "Source                  NaN     NaN     NaN     NaN      NaN      NaN  \n",
       "Destination             NaN     NaN     NaN     NaN      NaN      NaN  \n",
       "Route                   NaN     NaN     NaN     NaN      NaN      NaN  \n",
       "Total_Stops             NaN     NaN     NaN     NaN      NaN      NaN  \n",
       "Additional_Info         NaN     NaN     NaN     NaN      NaN      NaN  \n",
       "Price            4611.54881  1759.0  5277.0  8372.0  12373.0  79512.0  \n",
       "Duration(mins)   507.830133     5.0   170.0   520.0    930.0   2860.0  \n",
       "journey_day        8.479363     1.0     6.0    12.0     21.0     27.0  \n",
       "journey_month      1.164408     3.0     3.0     5.0      6.0      6.0  \n",
       "journey_Year            0.0  2019.0  2019.0  2019.0   2019.0   2019.0  \n",
       "dep_hour            5.74882     0.0     8.0    11.0     18.0     23.0  \n",
       "dep_min           18.767801     0.0     5.0    25.0     40.0     55.0  \n",
       "arrival_hour       6.859317     0.0     8.0    14.0     19.0     23.0  \n",
       "arrival_min       16.506808     0.0    10.0    25.0     35.0     55.0  "
      ]
     },
     "execution_count": 172,
     "metadata": {},
     "output_type": "execute_result"
    }
   ],
   "source": [
    "df_train.describe(include='all').T"
   ]
  },
  {
   "cell_type": "markdown",
   "id": "3f232289",
   "metadata": {},
   "source": [
    "### Observations"
   ]
  },
  {
   "cell_type": "markdown",
   "id": "c587f42a",
   "metadata": {},
   "source": [
    "* Most flights are from Jet Airways\tairlines \n",
    "* Most visited place is Cochin\n",
    "* Most flights took off from Delhi\n",
    "* Most Travelled route is DEL → BOM → COK'"
   ]
  },
  {
   "cell_type": "code",
   "execution_count": 173,
   "id": "22dddf57",
   "metadata": {},
   "outputs": [
    {
     "data": {
      "text/html": [
       "<div>\n",
       "<style scoped>\n",
       "    .dataframe tbody tr th:only-of-type {\n",
       "        vertical-align: middle;\n",
       "    }\n",
       "\n",
       "    .dataframe tbody tr th {\n",
       "        vertical-align: top;\n",
       "    }\n",
       "\n",
       "    .dataframe thead th {\n",
       "        text-align: right;\n",
       "    }\n",
       "</style>\n",
       "<table border=\"1\" class=\"dataframe\">\n",
       "  <thead>\n",
       "    <tr style=\"text-align: right;\">\n",
       "      <th></th>\n",
       "      <th>Price</th>\n",
       "      <th>Duration(mins)</th>\n",
       "      <th>journey_day</th>\n",
       "      <th>journey_month</th>\n",
       "      <th>journey_Year</th>\n",
       "      <th>dep_hour</th>\n",
       "      <th>dep_min</th>\n",
       "      <th>arrival_hour</th>\n",
       "      <th>arrival_min</th>\n",
       "    </tr>\n",
       "  </thead>\n",
       "  <tbody>\n",
       "    <tr>\n",
       "      <th>Price</th>\n",
       "      <td>1.000000</td>\n",
       "      <td>0.506480</td>\n",
       "      <td>-0.153774</td>\n",
       "      <td>-0.103643</td>\n",
       "      <td>NaN</td>\n",
       "      <td>0.006799</td>\n",
       "      <td>-0.024458</td>\n",
       "      <td>0.024244</td>\n",
       "      <td>-0.086155</td>\n",
       "    </tr>\n",
       "    <tr>\n",
       "      <th>Duration(mins)</th>\n",
       "      <td>0.506480</td>\n",
       "      <td>1.000000</td>\n",
       "      <td>-0.022439</td>\n",
       "      <td>0.014836</td>\n",
       "      <td>NaN</td>\n",
       "      <td>0.002088</td>\n",
       "      <td>-0.019099</td>\n",
       "      <td>0.051531</td>\n",
       "      <td>-0.069663</td>\n",
       "    </tr>\n",
       "    <tr>\n",
       "      <th>journey_day</th>\n",
       "      <td>-0.153774</td>\n",
       "      <td>-0.022439</td>\n",
       "      <td>1.000000</td>\n",
       "      <td>-0.038359</td>\n",
       "      <td>NaN</td>\n",
       "      <td>0.002170</td>\n",
       "      <td>-0.008170</td>\n",
       "      <td>-0.003245</td>\n",
       "      <td>-0.017510</td>\n",
       "    </tr>\n",
       "    <tr>\n",
       "      <th>journey_month</th>\n",
       "      <td>-0.103643</td>\n",
       "      <td>0.014836</td>\n",
       "      <td>-0.038359</td>\n",
       "      <td>1.000000</td>\n",
       "      <td>NaN</td>\n",
       "      <td>0.039127</td>\n",
       "      <td>-0.059267</td>\n",
       "      <td>-0.003927</td>\n",
       "      <td>-0.100626</td>\n",
       "    </tr>\n",
       "    <tr>\n",
       "      <th>journey_Year</th>\n",
       "      <td>NaN</td>\n",
       "      <td>NaN</td>\n",
       "      <td>NaN</td>\n",
       "      <td>NaN</td>\n",
       "      <td>NaN</td>\n",
       "      <td>NaN</td>\n",
       "      <td>NaN</td>\n",
       "      <td>NaN</td>\n",
       "      <td>NaN</td>\n",
       "    </tr>\n",
       "    <tr>\n",
       "      <th>dep_hour</th>\n",
       "      <td>0.006799</td>\n",
       "      <td>0.002088</td>\n",
       "      <td>0.002170</td>\n",
       "      <td>0.039127</td>\n",
       "      <td>NaN</td>\n",
       "      <td>1.000000</td>\n",
       "      <td>-0.024745</td>\n",
       "      <td>0.005180</td>\n",
       "      <td>0.067911</td>\n",
       "    </tr>\n",
       "    <tr>\n",
       "      <th>dep_min</th>\n",
       "      <td>-0.024458</td>\n",
       "      <td>-0.019099</td>\n",
       "      <td>-0.008170</td>\n",
       "      <td>-0.059267</td>\n",
       "      <td>NaN</td>\n",
       "      <td>-0.024745</td>\n",
       "      <td>1.000000</td>\n",
       "      <td>0.043122</td>\n",
       "      <td>-0.017597</td>\n",
       "    </tr>\n",
       "    <tr>\n",
       "      <th>arrival_hour</th>\n",
       "      <td>0.024244</td>\n",
       "      <td>0.051531</td>\n",
       "      <td>-0.003245</td>\n",
       "      <td>-0.003927</td>\n",
       "      <td>NaN</td>\n",
       "      <td>0.005180</td>\n",
       "      <td>0.043122</td>\n",
       "      <td>1.000000</td>\n",
       "      <td>-0.154363</td>\n",
       "    </tr>\n",
       "    <tr>\n",
       "      <th>arrival_min</th>\n",
       "      <td>-0.086155</td>\n",
       "      <td>-0.069663</td>\n",
       "      <td>-0.017510</td>\n",
       "      <td>-0.100626</td>\n",
       "      <td>NaN</td>\n",
       "      <td>0.067911</td>\n",
       "      <td>-0.017597</td>\n",
       "      <td>-0.154363</td>\n",
       "      <td>1.000000</td>\n",
       "    </tr>\n",
       "  </tbody>\n",
       "</table>\n",
       "</div>"
      ],
      "text/plain": [
       "                   Price  Duration(mins)  journey_day  journey_month  \\\n",
       "Price           1.000000        0.506480    -0.153774      -0.103643   \n",
       "Duration(mins)  0.506480        1.000000    -0.022439       0.014836   \n",
       "journey_day    -0.153774       -0.022439     1.000000      -0.038359   \n",
       "journey_month  -0.103643        0.014836    -0.038359       1.000000   \n",
       "journey_Year         NaN             NaN          NaN            NaN   \n",
       "dep_hour        0.006799        0.002088     0.002170       0.039127   \n",
       "dep_min        -0.024458       -0.019099    -0.008170      -0.059267   \n",
       "arrival_hour    0.024244        0.051531    -0.003245      -0.003927   \n",
       "arrival_min    -0.086155       -0.069663    -0.017510      -0.100626   \n",
       "\n",
       "                journey_Year  dep_hour   dep_min  arrival_hour  arrival_min  \n",
       "Price                    NaN  0.006799 -0.024458      0.024244    -0.086155  \n",
       "Duration(mins)           NaN  0.002088 -0.019099      0.051531    -0.069663  \n",
       "journey_day              NaN  0.002170 -0.008170     -0.003245    -0.017510  \n",
       "journey_month            NaN  0.039127 -0.059267     -0.003927    -0.100626  \n",
       "journey_Year             NaN       NaN       NaN           NaN          NaN  \n",
       "dep_hour                 NaN  1.000000 -0.024745      0.005180     0.067911  \n",
       "dep_min                  NaN -0.024745  1.000000      0.043122    -0.017597  \n",
       "arrival_hour             NaN  0.005180  0.043122      1.000000    -0.154363  \n",
       "arrival_min              NaN  0.067911 -0.017597     -0.154363     1.000000  "
      ]
     },
     "execution_count": 173,
     "metadata": {},
     "output_type": "execute_result"
    }
   ],
   "source": [
    "df_train.corr()"
   ]
  },
  {
   "cell_type": "code",
   "execution_count": 174,
   "id": "d26933f3",
   "metadata": {},
   "outputs": [
    {
     "data": {
      "image/png": "[encoded data removed]",
      "text/plain": [
       "<Figure size 1440x720 with 2 Axes>"
      ]
     },
     "metadata": {
      "needs_background": "light"
     },
     "output_type": "display_data"
    }
   ],
   "source": [
    "#df.corr() using heatmap\n",
    "plt.figure(figsize=(20,10))\n",
    "sns.heatmap(df_train.corr(),linewidth='0.5',linecolor='white',annot=True, annot_kws={'size': 12})\n",
    "plt.title('Correlation between columns', size=28)\n",
    "plt.xticks(size=14)\n",
    "plt.yticks(size=14)\n",
    "plt.show()"
   ]
  },
  {
   "cell_type": "markdown",
   "id": "72281fe0",
   "metadata": {},
   "source": [
    "# Observations"
   ]
  },
  {
   "cell_type": "markdown",
   "id": "1a9601cb",
   "metadata": {},
   "source": [
    "* In our train dataset most of teh columns of negatively correlated \n",
    "* Duration column is 51 percent positively correlated to price column and it shows highest correlation among others.\n",
    "* It seems no multicolinearity between columns"
   ]
  },
  {
   "cell_type": "markdown",
   "id": "e3272efd",
   "metadata": {},
   "source": [
    "# checking outliers"
   ]
  },
  {
   "cell_type": "code",
   "execution_count": 176,
   "id": "51a84149",
   "metadata": {},
   "outputs": [
    {
     "data": {
      "image/png": "[encoded data removed]",
      "text/plain": [
       "<Figure size 1080x1080 with 20 Axes>"
      ]
     },
     "metadata": {
      "needs_background": "light"
     },
     "output_type": "display_data"
    }
   ],
   "source": [
    "# for train data\n",
    "list_col=['Price','Duration(mins)','journey_day','journey_month', 'journey_Year', 'dep_hour', 'dep_min', 'arrival_hour',  'arrival_min' ]\n",
    "df_train.plot(kind='box',title=list_col, subplots=True, layout=(5,4), legend= True, fontsize=1, figsize=(15,15), color='green')\n",
    "plt.show()"
   ]
  },
  {
   "cell_type": "markdown",
   "id": "a692f3a9",
   "metadata": {},
   "source": [
    "### Observations"
   ]
  },
  {
   "cell_type": "markdown",
   "id": "e503da57",
   "metadata": {},
   "source": [
    "* Price and Duration columns might have outliers"
   ]
  },
  {
   "cell_type": "code",
   "execution_count": 179,
   "id": "4b8a8598",
   "metadata": {},
   "outputs": [
    {
     "data": {
      "image/png": "[encoded data removed]",
      "text/plain": [
       "<Figure size 1080x1080 with 20 Axes>"
      ]
     },
     "metadata": {
      "needs_background": "light"
     },
     "output_type": "display_data"
    }
   ],
   "source": [
    "# for test data\n",
    "list_col=['Duration(mins)','journey_day','journey_month', 'journey_Year', 'dep_hour', 'dep_min', 'arrival_hour',  'arrival_min' ]\n",
    "df_test.plot(kind='box',title=list_col, subplots=True, layout=(5,4), legend= True, fontsize=1, figsize=(15,15), color='green')\n",
    "plt.show()"
   ]
  },
  {
   "cell_type": "markdown",
   "id": "149c4c87",
   "metadata": {},
   "source": [
    "### Observations"
   ]
  },
  {
   "cell_type": "markdown",
   "id": "6032ebdb",
   "metadata": {},
   "source": [
    "* Duration column might have outliers"
   ]
  },
  {
   "cell_type": "markdown",
   "id": "60a9365f",
   "metadata": {},
   "source": [
    "# Skewness:"
   ]
  },
  {
   "cell_type": "code",
   "execution_count": 180,
   "id": "eaab59f1",
   "metadata": {},
   "outputs": [
    {
     "data": {
      "text/plain": [
       "Price             1.812405\n",
       "Duration(mins)    0.861411\n",
       "journey_day       0.118174\n",
       "journey_month    -0.387409\n",
       "journey_Year      0.000000\n",
       "dep_hour          0.112924\n",
       "dep_min           0.167234\n",
       "arrival_hour     -0.370146\n",
       "arrival_min       0.110945\n",
       "dtype: float64"
      ]
     },
     "execution_count": 180,
     "metadata": {},
     "output_type": "execute_result"
    }
   ],
   "source": [
    "df_train.skew()"
   ]
  },
  {
   "cell_type": "code",
   "execution_count": 181,
   "id": "d4051b1a",
   "metadata": {},
   "outputs": [
    {
     "data": {
      "text/plain": [
       "Duration(mins)    0.896103\n",
       "journey_day       0.199540\n",
       "journey_month    -0.403700\n",
       "journey_Year      0.000000\n",
       "dep_hour          0.093759\n",
       "dep_min           0.128515\n",
       "arrival_hour     -0.443166\n",
       "arrival_min       0.115267\n",
       "dtype: float64"
      ]
     },
     "execution_count": 181,
     "metadata": {},
     "output_type": "execute_result"
    }
   ],
   "source": [
    "df_test.skew()"
   ]
  },
  {
   "cell_type": "code",
   "execution_count": 182,
   "id": "1c0be2a7",
   "metadata": {},
   "outputs": [
    {
     "data": {
      "image/png": "[encoded data removed]",
      "text/plain": [
       "<Figure size 1080x720 with 15 Axes>"
      ]
     },
     "metadata": {
      "needs_background": "light"
     },
     "output_type": "display_data"
    }
   ],
   "source": [
    "#vizualizing skewness\n",
    "df_train.plot(kind='kde', subplots=True, layout=(5,3), sharex= False, legend= True, fontsize=1, figsize=(15,10))\n",
    "plt.show()"
   ]
  },
  {
   "cell_type": "markdown",
   "id": "1aa66c2b",
   "metadata": {},
   "source": [
    "### Observations"
   ]
  },
  {
   "cell_type": "markdown",
   "id": "bdcd387b",
   "metadata": {},
   "source": [
    "* All the columns shows skewness\n",
    "* All the columns shows multiheads/ peaks curves"
   ]
  },
  {
   "cell_type": "code",
   "execution_count": 183,
   "id": "0e9a8897",
   "metadata": {},
   "outputs": [
    {
     "data": {
      "image/png": "[encoded data removed]",
      "text/plain": [
       "<Figure size 1080x720 with 15 Axes>"
      ]
     },
     "metadata": {
      "needs_background": "light"
     },
     "output_type": "display_data"
    }
   ],
   "source": [
    "#vizualizing skewness\n",
    "df_test.plot(kind='kde', subplots=True, layout=(5,3), sharex= False, legend= True, fontsize=1, figsize=(15,10))\n",
    "plt.show()"
   ]
  },
  {
   "cell_type": "markdown",
   "id": "2720b02e",
   "metadata": {},
   "source": [
    "### Observations"
   ]
  },
  {
   "cell_type": "markdown",
   "id": "f6319d65",
   "metadata": {},
   "source": [
    "* All the columns shows skewness\n",
    "* All the columns shows multiheads/ peaks curves"
   ]
  },
  {
   "cell_type": "markdown",
   "id": "588e85c1",
   "metadata": {},
   "source": [
    "# Findings(Insights)"
   ]
  },
  {
   "cell_type": "markdown",
   "id": "1472d8cf",
   "metadata": {},
   "source": [
    "* Jet Airways is the Most used Airlines in the year 2019\n",
    "* People has visited Cochin in the year 2019\n",
    "* Dehli is place where most number of flights has took off\n",
    "* DelHI to Bombay to Cochin is the most used rout by flights\n",
    "* From analysis we can say that Cochin has more visitors from Delhi and Bombay \n",
    "* Most travelled month is May and June\n",
    "* Most used flights is where meals is not included, it means to travel within india most people didn't preferred meals."
   ]
  },
  {
   "cell_type": "markdown",
   "id": "bd51e7f3",
   "metadata": {},
   "source": [
    "# Data Preprocessing"
   ]
  },
  {
   "cell_type": "markdown",
   "id": "72c1f504",
   "metadata": {},
   "source": [
    "# Label Encoding"
   ]
  },
  {
   "cell_type": "code",
   "execution_count": 184,
   "id": "0b7fa4ff",
   "metadata": {},
   "outputs": [
    {
     "data": {
      "text/html": [
       "<div>\n",
       "<style scoped>\n",
       "    .dataframe tbody tr th:only-of-type {\n",
       "        vertical-align: middle;\n",
       "    }\n",
       "\n",
       "    .dataframe tbody tr th {\n",
       "        vertical-align: top;\n",
       "    }\n",
       "\n",
       "    .dataframe thead th {\n",
       "        text-align: right;\n",
       "    }\n",
       "</style>\n",
       "<table border=\"1\" class=\"dataframe\">\n",
       "  <thead>\n",
       "    <tr style=\"text-align: right;\">\n",
       "      <th></th>\n",
       "      <th>Airline</th>\n",
       "      <th>Source</th>\n",
       "      <th>Destination</th>\n",
       "      <th>Route</th>\n",
       "      <th>Total_Stops</th>\n",
       "      <th>Additional_Info</th>\n",
       "      <th>Price</th>\n",
       "      <th>Duration(mins)</th>\n",
       "      <th>journey_day</th>\n",
       "      <th>journey_month</th>\n",
       "      <th>journey_Year</th>\n",
       "      <th>dep_hour</th>\n",
       "      <th>dep_min</th>\n",
       "      <th>arrival_hour</th>\n",
       "      <th>arrival_min</th>\n",
       "    </tr>\n",
       "  </thead>\n",
       "  <tbody>\n",
       "    <tr>\n",
       "      <th>0</th>\n",
       "      <td>IndiGo</td>\n",
       "      <td>Banglore</td>\n",
       "      <td>New Delhi</td>\n",
       "      <td>BLR → DEL</td>\n",
       "      <td>non-stop</td>\n",
       "      <td>No info</td>\n",
       "      <td>3897</td>\n",
       "      <td>170</td>\n",
       "      <td>24</td>\n",
       "      <td>3</td>\n",
       "      <td>2019</td>\n",
       "      <td>22</td>\n",
       "      <td>20</td>\n",
       "      <td>1</td>\n",
       "      <td>10</td>\n",
       "    </tr>\n",
       "    <tr>\n",
       "      <th>1</th>\n",
       "      <td>Air India</td>\n",
       "      <td>Kolkata</td>\n",
       "      <td>Banglore</td>\n",
       "      <td>CCU → IXR → BBI → BLR</td>\n",
       "      <td>2 stops</td>\n",
       "      <td>No info</td>\n",
       "      <td>7662</td>\n",
       "      <td>445</td>\n",
       "      <td>1</td>\n",
       "      <td>5</td>\n",
       "      <td>2019</td>\n",
       "      <td>5</td>\n",
       "      <td>50</td>\n",
       "      <td>13</td>\n",
       "      <td>15</td>\n",
       "    </tr>\n",
       "    <tr>\n",
       "      <th>2</th>\n",
       "      <td>Jet Airways</td>\n",
       "      <td>Delhi</td>\n",
       "      <td>Cochin</td>\n",
       "      <td>DEL → LKO → BOM → COK</td>\n",
       "      <td>2 stops</td>\n",
       "      <td>No info</td>\n",
       "      <td>13882</td>\n",
       "      <td>1140</td>\n",
       "      <td>9</td>\n",
       "      <td>6</td>\n",
       "      <td>2019</td>\n",
       "      <td>9</td>\n",
       "      <td>25</td>\n",
       "      <td>4</td>\n",
       "      <td>25</td>\n",
       "    </tr>\n",
       "  </tbody>\n",
       "</table>\n",
       "</div>"
      ],
      "text/plain": [
       "       Airline    Source Destination                  Route Total_Stops  \\\n",
       "0       IndiGo  Banglore   New Delhi              BLR → DEL    non-stop   \n",
       "1    Air India   Kolkata    Banglore  CCU → IXR → BBI → BLR     2 stops   \n",
       "2  Jet Airways     Delhi      Cochin  DEL → LKO → BOM → COK     2 stops   \n",
       "\n",
       "  Additional_Info  Price  Duration(mins)  journey_day  journey_month  \\\n",
       "0         No info   3897             170           24              3   \n",
       "1         No info   7662             445            1              5   \n",
       "2         No info  13882            1140            9              6   \n",
       "\n",
       "   journey_Year  dep_hour  dep_min  arrival_hour  arrival_min  \n",
       "0          2019        22       20             1           10  \n",
       "1          2019         5       50            13           15  \n",
       "2          2019         9       25             4           25  "
      ]
     },
     "execution_count": 184,
     "metadata": {},
     "output_type": "execute_result"
    }
   ],
   "source": [
    "df_train.head(3)"
   ]
  },
  {
   "cell_type": "code",
   "execution_count": 185,
   "id": "c3dd0365",
   "metadata": {},
   "outputs": [
    {
     "data": {
      "text/html": [
       "<div>\n",
       "<style scoped>\n",
       "    .dataframe tbody tr th:only-of-type {\n",
       "        vertical-align: middle;\n",
       "    }\n",
       "\n",
       "    .dataframe tbody tr th {\n",
       "        vertical-align: top;\n",
       "    }\n",
       "\n",
       "    .dataframe thead th {\n",
       "        text-align: right;\n",
       "    }\n",
       "</style>\n",
       "<table border=\"1\" class=\"dataframe\">\n",
       "  <thead>\n",
       "    <tr style=\"text-align: right;\">\n",
       "      <th></th>\n",
       "      <th>Airline</th>\n",
       "      <th>Source</th>\n",
       "      <th>Destination</th>\n",
       "      <th>Route</th>\n",
       "      <th>Total_Stops</th>\n",
       "      <th>Additional_Info</th>\n",
       "      <th>Duration(mins)</th>\n",
       "      <th>journey_day</th>\n",
       "      <th>journey_month</th>\n",
       "      <th>journey_Year</th>\n",
       "      <th>dep_hour</th>\n",
       "      <th>dep_min</th>\n",
       "      <th>arrival_hour</th>\n",
       "      <th>arrival_min</th>\n",
       "    </tr>\n",
       "  </thead>\n",
       "  <tbody>\n",
       "    <tr>\n",
       "      <th>0</th>\n",
       "      <td>Jet Airways</td>\n",
       "      <td>Delhi</td>\n",
       "      <td>Cochin</td>\n",
       "      <td>DEL → BOM → COK</td>\n",
       "      <td>1 stop</td>\n",
       "      <td>No info</td>\n",
       "      <td>655</td>\n",
       "      <td>6</td>\n",
       "      <td>6</td>\n",
       "      <td>2019</td>\n",
       "      <td>17</td>\n",
       "      <td>30</td>\n",
       "      <td>4</td>\n",
       "      <td>25</td>\n",
       "    </tr>\n",
       "    <tr>\n",
       "      <th>1</th>\n",
       "      <td>IndiGo</td>\n",
       "      <td>Kolkata</td>\n",
       "      <td>Banglore</td>\n",
       "      <td>CCU → MAA → BLR</td>\n",
       "      <td>1 stop</td>\n",
       "      <td>No info</td>\n",
       "      <td>240</td>\n",
       "      <td>12</td>\n",
       "      <td>5</td>\n",
       "      <td>2019</td>\n",
       "      <td>6</td>\n",
       "      <td>20</td>\n",
       "      <td>10</td>\n",
       "      <td>20</td>\n",
       "    </tr>\n",
       "    <tr>\n",
       "      <th>2</th>\n",
       "      <td>Jet Airways</td>\n",
       "      <td>Delhi</td>\n",
       "      <td>Cochin</td>\n",
       "      <td>DEL → BOM → COK</td>\n",
       "      <td>1 stop</td>\n",
       "      <td>In-flight meal not included</td>\n",
       "      <td>1425</td>\n",
       "      <td>21</td>\n",
       "      <td>5</td>\n",
       "      <td>2019</td>\n",
       "      <td>19</td>\n",
       "      <td>15</td>\n",
       "      <td>19</td>\n",
       "      <td>0</td>\n",
       "    </tr>\n",
       "  </tbody>\n",
       "</table>\n",
       "</div>"
      ],
      "text/plain": [
       "       Airline   Source Destination            Route Total_Stops  \\\n",
       "0  Jet Airways    Delhi      Cochin  DEL → BOM → COK      1 stop   \n",
       "1       IndiGo  Kolkata    Banglore  CCU → MAA → BLR      1 stop   \n",
       "2  Jet Airways    Delhi      Cochin  DEL → BOM → COK      1 stop   \n",
       "\n",
       "               Additional_Info  Duration(mins)  journey_day  journey_month  \\\n",
       "0                      No info             655            6              6   \n",
       "1                      No info             240           12              5   \n",
       "2  In-flight meal not included            1425           21              5   \n",
       "\n",
       "   journey_Year  dep_hour  dep_min  arrival_hour  arrival_min  \n",
       "0          2019        17       30             4           25  \n",
       "1          2019         6       20            10           20  \n",
       "2          2019        19       15            19            0  "
      ]
     },
     "execution_count": 185,
     "metadata": {},
     "output_type": "execute_result"
    }
   ],
   "source": [
    "df_test.head(3)"
   ]
  },
  {
   "cell_type": "markdown",
   "id": "6d38159b",
   "metadata": {},
   "source": [
    "* Before encoding we will drop all the columns which is of no use for example year column"
   ]
  },
  {
   "cell_type": "code",
   "execution_count": 188,
   "id": "015da323",
   "metadata": {},
   "outputs": [],
   "source": [
    "df_train1=df_train.copy()\n",
    "df_train1.drop(['journey_Year'],axis=1,inplace=True)\n",
    "df_test1=df_test.copy()\n",
    "df_test1.drop('journey_Year', axis=1, inplace=True)"
   ]
  },
  {
   "cell_type": "code",
   "execution_count": 192,
   "id": "609ca20e",
   "metadata": {},
   "outputs": [],
   "source": [
    "# converting string into integer\n",
    "from sklearn.preprocessing import LabelEncoder\n",
    "\n",
    "#creating instance\n",
    "le=LabelEncoder()\n",
    "\n",
    "#training data\n",
    "le.fit(df_train1['Airline'])\n",
    "#transforming data\n",
    "df_train1['Airline']=le.transform(df_train1['Airline'])\n",
    "\n",
    "le.fit(df_train1['Source'])\n",
    "df_train1['Source']=le.transform(df_train1['Source'])\n",
    "\n",
    "le.fit(df_train1['Destination'])\n",
    "df_train1['Destination']=le.transform(df_train1['Destination'])\n",
    "\n",
    "le.fit(df_train1['Route'])\n",
    "df_train1['Route']=le.transform(df_train1['Route'])\n",
    "\n",
    "le.fit(df_train1['Total_Stops'])\n",
    "df_train1['Total_Stops']=le.transform(df_train1['Total_Stops'])\n",
    "\n",
    "le.fit(df_train1['Additional_Info'])\n",
    "df_train1['Additional_Info']=le.transform(df_train1['Additional_Info'])\n",
    "\n",
    "le.fit(df_train1['journey_day'])\n",
    "df_train1['journey_day']=le.transform(df_train1['journey_day'])\n",
    "\n",
    "le.fit(df_train1['journey_month'])\n",
    "df_train1['journey_month']=le.transform(df_train1['journey_month'])\n",
    "\n",
    "le.fit(df_train1['dep_hour'])\n",
    "df_train1['dep_hour']=le.transform(df_train1['dep_hour'])\n",
    "\n",
    "le.fit(df_train1['dep_min'])\n",
    "df_train1['dep_min']=le.transform(df_train1['dep_min'])\n",
    "\n",
    "le.fit(df_train1['arrival_hour'])\n",
    "df_train1['arrival_hour']=le.transform(df_train1['arrival_hour'])\n",
    "\n",
    "le.fit(df_train1['arrival_min'])\n",
    "df_train1['arrival_min']=le.transform(df_train1['arrival_min'])"
   ]
  },
  {
   "cell_type": "code",
   "execution_count": 194,
   "id": "2e40f107",
   "metadata": {},
   "outputs": [
    {
     "data": {
      "text/html": [
       "<div>\n",
       "<style scoped>\n",
       "    .dataframe tbody tr th:only-of-type {\n",
       "        vertical-align: middle;\n",
       "    }\n",
       "\n",
       "    .dataframe tbody tr th {\n",
       "        vertical-align: top;\n",
       "    }\n",
       "\n",
       "    .dataframe thead th {\n",
       "        text-align: right;\n",
       "    }\n",
       "</style>\n",
       "<table border=\"1\" class=\"dataframe\">\n",
       "  <thead>\n",
       "    <tr style=\"text-align: right;\">\n",
       "      <th></th>\n",
       "      <th>Airline</th>\n",
       "      <th>Source</th>\n",
       "      <th>Destination</th>\n",
       "      <th>Route</th>\n",
       "      <th>Total_Stops</th>\n",
       "      <th>Additional_Info</th>\n",
       "      <th>Price</th>\n",
       "      <th>Duration(mins)</th>\n",
       "      <th>journey_day</th>\n",
       "      <th>journey_month</th>\n",
       "      <th>dep_hour</th>\n",
       "      <th>dep_min</th>\n",
       "      <th>arrival_hour</th>\n",
       "      <th>arrival_min</th>\n",
       "    </tr>\n",
       "  </thead>\n",
       "  <tbody>\n",
       "    <tr>\n",
       "      <th>0</th>\n",
       "      <td>3</td>\n",
       "      <td>0</td>\n",
       "      <td>5</td>\n",
       "      <td>18</td>\n",
       "      <td>4</td>\n",
       "      <td>8</td>\n",
       "      <td>3897</td>\n",
       "      <td>170</td>\n",
       "      <td>8</td>\n",
       "      <td>0</td>\n",
       "      <td>22</td>\n",
       "      <td>4</td>\n",
       "      <td>1</td>\n",
       "      <td>2</td>\n",
       "    </tr>\n",
       "    <tr>\n",
       "      <th>1</th>\n",
       "      <td>1</td>\n",
       "      <td>3</td>\n",
       "      <td>0</td>\n",
       "      <td>84</td>\n",
       "      <td>1</td>\n",
       "      <td>8</td>\n",
       "      <td>7662</td>\n",
       "      <td>445</td>\n",
       "      <td>0</td>\n",
       "      <td>2</td>\n",
       "      <td>5</td>\n",
       "      <td>10</td>\n",
       "      <td>13</td>\n",
       "      <td>3</td>\n",
       "    </tr>\n",
       "  </tbody>\n",
       "</table>\n",
       "</div>"
      ],
      "text/plain": [
       "   Airline  Source  Destination  Route  Total_Stops  Additional_Info  Price  \\\n",
       "0        3       0            5     18            4                8   3897   \n",
       "1        1       3            0     84            1                8   7662   \n",
       "\n",
       "   Duration(mins)  journey_day  journey_month  dep_hour  dep_min  \\\n",
       "0             170            8              0        22        4   \n",
       "1             445            0              2         5       10   \n",
       "\n",
       "   arrival_hour  arrival_min  \n",
       "0             1            2  \n",
       "1            13            3  "
      ]
     },
     "execution_count": 194,
     "metadata": {},
     "output_type": "execute_result"
    }
   ],
   "source": [
    "df_train1.head(2)"
   ]
  },
  {
   "cell_type": "code",
   "execution_count": 195,
   "id": "e984ec5f",
   "metadata": {},
   "outputs": [],
   "source": [
    "# converting string into integer\n",
    "from sklearn.preprocessing import LabelEncoder\n",
    "\n",
    "#creating instance\n",
    "le=LabelEncoder()\n",
    "\n",
    "#training data\n",
    "le.fit(df_test1['Airline'])\n",
    "#transforming data\n",
    "df_test1['Airline']=le.transform(df_test1['Airline'])\n",
    "\n",
    "le.fit(df_test1['Source'])\n",
    "df_test1['Source']=le.transform(df_test1['Source'])\n",
    "\n",
    "le.fit(df_test1['Destination'])\n",
    "df_test1['Destination']=le.transform(df_test1['Destination'])\n",
    "\n",
    "le.fit(df_test1['Route'])\n",
    "df_test1['Route']=le.transform(df_test1['Route'])\n",
    "\n",
    "le.fit(df_test1['Total_Stops'])\n",
    "df_test1['Total_Stops']=le.transform(df_test1['Total_Stops'])\n",
    "\n",
    "le.fit(df_test1['Additional_Info'])\n",
    "df_test1['Additional_Info']=le.transform(df_test1['Additional_Info'])\n",
    "\n",
    "le.fit(df_test1['journey_day'])\n",
    "df_test1['journey_day']=le.transform(df_test1['journey_day'])\n",
    "\n",
    "le.fit(df_test1['journey_month'])\n",
    "df_test1['journey_month']=le.transform(df_test1['journey_month'])\n",
    "\n",
    "le.fit(df_test1['dep_hour'])\n",
    "df_test1['dep_hour']=le.transform(df_test1['dep_hour'])\n",
    "\n",
    "le.fit(df_test1['dep_min'])\n",
    "df_test1['dep_min']=le.transform(df_test1['dep_min'])\n",
    "\n",
    "le.fit(df_test1['arrival_hour'])\n",
    "df_test1['arrival_hour']=le.transform(df_test1['arrival_hour'])\n",
    "\n",
    "le.fit(df_test1['arrival_min'])\n",
    "df_test1['arrival_min']=le.transform(df_test1['arrival_min'])"
   ]
  },
  {
   "cell_type": "code",
   "execution_count": 197,
   "id": "75a5ef80",
   "metadata": {},
   "outputs": [
    {
     "data": {
      "text/html": [
       "<div>\n",
       "<style scoped>\n",
       "    .dataframe tbody tr th:only-of-type {\n",
       "        vertical-align: middle;\n",
       "    }\n",
       "\n",
       "    .dataframe tbody tr th {\n",
       "        vertical-align: top;\n",
       "    }\n",
       "\n",
       "    .dataframe thead th {\n",
       "        text-align: right;\n",
       "    }\n",
       "</style>\n",
       "<table border=\"1\" class=\"dataframe\">\n",
       "  <thead>\n",
       "    <tr style=\"text-align: right;\">\n",
       "      <th></th>\n",
       "      <th>Airline</th>\n",
       "      <th>Source</th>\n",
       "      <th>Destination</th>\n",
       "      <th>Route</th>\n",
       "      <th>Total_Stops</th>\n",
       "      <th>Additional_Info</th>\n",
       "      <th>Duration(mins)</th>\n",
       "      <th>journey_day</th>\n",
       "      <th>journey_month</th>\n",
       "      <th>dep_hour</th>\n",
       "      <th>dep_min</th>\n",
       "      <th>arrival_hour</th>\n",
       "      <th>arrival_min</th>\n",
       "    </tr>\n",
       "  </thead>\n",
       "  <tbody>\n",
       "    <tr>\n",
       "      <th>0</th>\n",
       "      <td>4</td>\n",
       "      <td>2</td>\n",
       "      <td>1</td>\n",
       "      <td>76</td>\n",
       "      <td>0</td>\n",
       "      <td>5</td>\n",
       "      <td>655</td>\n",
       "      <td>2</td>\n",
       "      <td>3</td>\n",
       "      <td>17</td>\n",
       "      <td>6</td>\n",
       "      <td>4</td>\n",
       "      <td>5</td>\n",
       "    </tr>\n",
       "    <tr>\n",
       "      <th>1</th>\n",
       "      <td>3</td>\n",
       "      <td>3</td>\n",
       "      <td>0</td>\n",
       "      <td>65</td>\n",
       "      <td>0</td>\n",
       "      <td>5</td>\n",
       "      <td>240</td>\n",
       "      <td>4</td>\n",
       "      <td>2</td>\n",
       "      <td>6</td>\n",
       "      <td>4</td>\n",
       "      <td>10</td>\n",
       "      <td>4</td>\n",
       "    </tr>\n",
       "    <tr>\n",
       "      <th>2</th>\n",
       "      <td>4</td>\n",
       "      <td>2</td>\n",
       "      <td>1</td>\n",
       "      <td>76</td>\n",
       "      <td>0</td>\n",
       "      <td>3</td>\n",
       "      <td>1425</td>\n",
       "      <td>7</td>\n",
       "      <td>2</td>\n",
       "      <td>19</td>\n",
       "      <td>3</td>\n",
       "      <td>19</td>\n",
       "      <td>0</td>\n",
       "    </tr>\n",
       "  </tbody>\n",
       "</table>\n",
       "</div>"
      ],
      "text/plain": [
       "   Airline  Source  Destination  Route  Total_Stops  Additional_Info  \\\n",
       "0        4       2            1     76            0                5   \n",
       "1        3       3            0     65            0                5   \n",
       "2        4       2            1     76            0                3   \n",
       "\n",
       "   Duration(mins)  journey_day  journey_month  dep_hour  dep_min  \\\n",
       "0             655            2              3        17        6   \n",
       "1             240            4              2         6        4   \n",
       "2            1425            7              2        19        3   \n",
       "\n",
       "   arrival_hour  arrival_min  \n",
       "0             4            5  \n",
       "1            10            4  \n",
       "2            19            0  "
      ]
     },
     "execution_count": 197,
     "metadata": {},
     "output_type": "execute_result"
    }
   ],
   "source": [
    "df_test1.head(3)"
   ]
  },
  {
   "cell_type": "markdown",
   "id": "d80515eb",
   "metadata": {},
   "source": [
    "# Removing outliers:"
   ]
  },
  {
   "cell_type": "markdown",
   "id": "6f937f05",
   "metadata": {},
   "source": [
    "using Zscore technique"
   ]
  },
  {
   "cell_type": "code",
   "execution_count": 198,
   "id": "7c290713",
   "metadata": {},
   "outputs": [],
   "source": [
    "from scipy.stats import zscore"
   ]
  },
  {
   "cell_type": "code",
   "execution_count": 202,
   "id": "c013d68e",
   "metadata": {},
   "outputs": [
    {
     "name": "stdout",
     "output_type": "stream",
     "text": [
      "(array([    0,     1,     2, ..., 10679, 10680, 10681], dtype=int64),)\n",
      "Shape of New Dataframe dn: (10586, 14)\n"
     ]
    }
   ],
   "source": [
    "z =np.abs(zscore(df_train1['Price']))\n",
    "print(np.where(z<3))\n",
    "dn=df_train1[(z<3)]\n",
    "print('Shape of New Dataframe dn:',dn.shape)"
   ]
  },
  {
   "cell_type": "code",
   "execution_count": 204,
   "id": "4cc01c19",
   "metadata": {},
   "outputs": [
    {
     "name": "stdout",
     "output_type": "stream",
     "text": [
      "0        0.928225\n",
      "1        0.387187\n",
      "2        0.980163\n",
      "3        0.623277\n",
      "4        0.701973\n",
      "           ...   \n",
      "10678    0.967574\n",
      "10679    0.957737\n",
      "10680    0.908551\n",
      "10681    0.947900\n",
      "10682    0.278980\n",
      "Name: Duration(mins), Length: 10586, dtype: float64\n",
      "1\n",
      "Shape of New Dataframe dn1: (10521, 14)\n"
     ]
    }
   ],
   "source": [
    "z =np.abs(zscore(dn['Duration(mins)']))\n",
    "print(z)\n",
    "print(len(np.where(z<3)))\n",
    "dn1=dn[(z<3)]\n",
    "print('Shape of New Dataframe dn1:',dn1.shape)"
   ]
  },
  {
   "cell_type": "code",
   "execution_count": 207,
   "id": "4a72a7fc",
   "metadata": {},
   "outputs": [
    {
     "name": "stdout",
     "output_type": "stream",
     "text": [
      "(array([   0,    1,    2, ..., 2668, 2669, 2670], dtype=int64),)\n",
      "Shape of New Dataframe dn: (2653, 13)\n"
     ]
    }
   ],
   "source": [
    "z =np.abs(zscore(df_test1['Duration(mins)']))\n",
    "print(np.where(z<3))\n",
    "dn_test=df_test1[(z<3)]\n",
    "print('Shape of New Dataframe dn:',dn_test.shape)"
   ]
  },
  {
   "cell_type": "code",
   "execution_count": 208,
   "id": "08cdc1bf",
   "metadata": {},
   "outputs": [
    {
     "name": "stdout",
     "output_type": "stream",
     "text": [
      "old dataframe (10682, 14)\n",
      "new dataframe (10521, 14)\n",
      "no of rows dropped 161\n"
     ]
    }
   ],
   "source": [
    "df_new=dn1\n",
    "print('old dataframe',df_train1.shape)\n",
    "print('new dataframe',df_new.shape)\n",
    "print('no of rows dropped',df_train1.shape[0]-df_new.shape[0])"
   ]
  },
  {
   "cell_type": "markdown",
   "id": "9d28f8da",
   "metadata": {},
   "source": [
    "# Splitting data into x(features) and y(target)"
   ]
  },
  {
   "cell_type": "code",
   "execution_count": 238,
   "id": "9433687a",
   "metadata": {},
   "outputs": [],
   "source": [
    "#splitting data into x and y \n",
    "x=df_new.drop('Price', axis=1) # dropping target column from dataframe and assigning the dataframe as x\n",
    "y=df_new['Price'] #assigning target column(W) to y variable"
   ]
  },
  {
   "cell_type": "code",
   "execution_count": 239,
   "id": "8c803e60",
   "metadata": {},
   "outputs": [
    {
     "data": {
      "text/html": [
       "<div>\n",
       "<style scoped>\n",
       "    .dataframe tbody tr th:only-of-type {\n",
       "        vertical-align: middle;\n",
       "    }\n",
       "\n",
       "    .dataframe tbody tr th {\n",
       "        vertical-align: top;\n",
       "    }\n",
       "\n",
       "    .dataframe thead th {\n",
       "        text-align: right;\n",
       "    }\n",
       "</style>\n",
       "<table border=\"1\" class=\"dataframe\">\n",
       "  <thead>\n",
       "    <tr style=\"text-align: right;\">\n",
       "      <th></th>\n",
       "      <th>Airline</th>\n",
       "      <th>Source</th>\n",
       "      <th>Destination</th>\n",
       "      <th>Route</th>\n",
       "      <th>Total_Stops</th>\n",
       "      <th>Additional_Info</th>\n",
       "      <th>Duration(mins)</th>\n",
       "      <th>journey_day</th>\n",
       "      <th>journey_month</th>\n",
       "      <th>dep_hour</th>\n",
       "      <th>dep_min</th>\n",
       "      <th>arrival_hour</th>\n",
       "      <th>arrival_min</th>\n",
       "    </tr>\n",
       "  </thead>\n",
       "  <tbody>\n",
       "    <tr>\n",
       "      <th>8275</th>\n",
       "      <td>1</td>\n",
       "      <td>2</td>\n",
       "      <td>1</td>\n",
       "      <td>112</td>\n",
       "      <td>1</td>\n",
       "      <td>8</td>\n",
       "      <td>1580</td>\n",
       "      <td>9</td>\n",
       "      <td>3</td>\n",
       "      <td>7</td>\n",
       "      <td>1</td>\n",
       "      <td>9</td>\n",
       "      <td>5</td>\n",
       "    </tr>\n",
       "  </tbody>\n",
       "</table>\n",
       "</div>"
      ],
      "text/plain": [
       "      Airline  Source  Destination  Route  Total_Stops  Additional_Info  \\\n",
       "8275        1       2            1    112            1                8   \n",
       "\n",
       "      Duration(mins)  journey_day  journey_month  dep_hour  dep_min  \\\n",
       "8275            1580            9              3         7        1   \n",
       "\n",
       "      arrival_hour  arrival_min  \n",
       "8275             9            5  "
      ]
     },
     "execution_count": 239,
     "metadata": {},
     "output_type": "execute_result"
    }
   ],
   "source": [
    "x.sample()"
   ]
  },
  {
   "cell_type": "code",
   "execution_count": 240,
   "id": "7debcade",
   "metadata": {},
   "outputs": [
    {
     "data": {
      "text/plain": [
       "10015    3597\n",
       "Name: Price, dtype: int64"
      ]
     },
     "execution_count": 240,
     "metadata": {},
     "output_type": "execute_result"
    }
   ],
   "source": [
    "y.sample()"
   ]
  },
  {
   "cell_type": "markdown",
   "id": "dc43517f",
   "metadata": {},
   "source": [
    "# VIF(checking multicolinearity)"
   ]
  },
  {
   "cell_type": "code",
   "execution_count": 241,
   "id": "59c9b249",
   "metadata": {},
   "outputs": [],
   "source": [
    "#library for VIF\n",
    "from statsmodels.stats.outliers_influence import variance_inflation_factor"
   ]
  },
  {
   "cell_type": "code",
   "execution_count": 242,
   "id": "7e5b56a4",
   "metadata": {},
   "outputs": [
    {
     "data": {
      "text/html": [
       "<div>\n",
       "<style scoped>\n",
       "    .dataframe tbody tr th:only-of-type {\n",
       "        vertical-align: middle;\n",
       "    }\n",
       "\n",
       "    .dataframe tbody tr th {\n",
       "        vertical-align: top;\n",
       "    }\n",
       "\n",
       "    .dataframe thead th {\n",
       "        text-align: right;\n",
       "    }\n",
       "</style>\n",
       "<table border=\"1\" class=\"dataframe\">\n",
       "  <thead>\n",
       "    <tr style=\"text-align: right;\">\n",
       "      <th></th>\n",
       "      <th>Features</th>\n",
       "      <th>VIF value</th>\n",
       "    </tr>\n",
       "  </thead>\n",
       "  <tbody>\n",
       "    <tr>\n",
       "      <th>0</th>\n",
       "      <td>Airline</td>\n",
       "      <td>3.713623</td>\n",
       "    </tr>\n",
       "    <tr>\n",
       "      <th>1</th>\n",
       "      <td>Source</td>\n",
       "      <td>5.692204</td>\n",
       "    </tr>\n",
       "    <tr>\n",
       "      <th>2</th>\n",
       "      <td>Destination</td>\n",
       "      <td>3.233455</td>\n",
       "    </tr>\n",
       "    <tr>\n",
       "      <th>3</th>\n",
       "      <td>Route</td>\n",
       "      <td>8.109112</td>\n",
       "    </tr>\n",
       "    <tr>\n",
       "      <th>4</th>\n",
       "      <td>Total_Stops</td>\n",
       "      <td>3.290855</td>\n",
       "    </tr>\n",
       "    <tr>\n",
       "      <th>5</th>\n",
       "      <td>Additional_Info</td>\n",
       "      <td>22.336276</td>\n",
       "    </tr>\n",
       "    <tr>\n",
       "      <th>6</th>\n",
       "      <td>Duration(mins)</td>\n",
       "      <td>3.994926</td>\n",
       "    </tr>\n",
       "    <tr>\n",
       "      <th>7</th>\n",
       "      <td>journey_day</td>\n",
       "      <td>3.413043</td>\n",
       "    </tr>\n",
       "    <tr>\n",
       "      <th>8</th>\n",
       "      <td>journey_month</td>\n",
       "      <td>3.668188</td>\n",
       "    </tr>\n",
       "    <tr>\n",
       "      <th>9</th>\n",
       "      <td>dep_hour</td>\n",
       "      <td>5.538823</td>\n",
       "    </tr>\n",
       "    <tr>\n",
       "      <th>10</th>\n",
       "      <td>dep_min</td>\n",
       "      <td>2.700254</td>\n",
       "    </tr>\n",
       "    <tr>\n",
       "      <th>11</th>\n",
       "      <td>arrival_hour</td>\n",
       "      <td>4.731795</td>\n",
       "    </tr>\n",
       "    <tr>\n",
       "      <th>12</th>\n",
       "      <td>arrival_min</td>\n",
       "      <td>3.410841</td>\n",
       "    </tr>\n",
       "  </tbody>\n",
       "</table>\n",
       "</div>"
      ],
      "text/plain": [
       "           Features  VIF value\n",
       "0           Airline   3.713623\n",
       "1            Source   5.692204\n",
       "2       Destination   3.233455\n",
       "3             Route   8.109112\n",
       "4       Total_Stops   3.290855\n",
       "5   Additional_Info  22.336276\n",
       "6    Duration(mins)   3.994926\n",
       "7       journey_day   3.413043\n",
       "8     journey_month   3.668188\n",
       "9          dep_hour   5.538823\n",
       "10          dep_min   2.700254\n",
       "11     arrival_hour   4.731795\n",
       "12      arrival_min   3.410841"
      ]
     },
     "execution_count": 242,
     "metadata": {},
     "output_type": "execute_result"
    }
   ],
   "source": [
    "VIF =[]\n",
    "for i in range(len(x.columns)):\n",
    "    VIF.append(variance_inflation_factor(exog=x.values, exog_idx=i))\n",
    "\n",
    "datavif={'Features':x.columns, 'VIF value': VIF}    \n",
    "vif_df=pd.DataFrame(datavif)\n",
    "vif_df"
   ]
  },
  {
   "cell_type": "markdown",
   "id": "05feb011",
   "metadata": {},
   "source": [
    "### Observations"
   ]
  },
  {
   "cell_type": "markdown",
   "id": "152b1b0d",
   "metadata": {},
   "source": [
    "* Additional info is showing multicolinearity"
   ]
  },
  {
   "cell_type": "markdown",
   "id": "42252bcb",
   "metadata": {},
   "source": [
    "# Removing skewness"
   ]
  },
  {
   "cell_type": "code",
   "execution_count": 243,
   "id": "304fd8b8",
   "metadata": {},
   "outputs": [],
   "source": [
    "from sklearn.preprocessing import power_transform\n",
    "x=power_transform(x,method='yeo-johnson')"
   ]
  },
  {
   "cell_type": "code",
   "execution_count": 244,
   "id": "d70b6f4d",
   "metadata": {},
   "outputs": [],
   "source": [
    "from sklearn.preprocessing import power_transform\n",
    "x_test=power_transform(df_test1,method='yeo-johnson')"
   ]
  },
  {
   "cell_type": "code",
   "execution_count": 245,
   "id": "5a008e86",
   "metadata": {},
   "outputs": [
    {
     "data": {
      "text/plain": [
       "0    -0.014672\n",
       "1    -0.236920\n",
       "2     0.041469\n",
       "3    -0.435081\n",
       "4     0.323620\n",
       "5    -1.360014\n",
       "6    -0.047792\n",
       "7    -0.183201\n",
       "8    -0.338198\n",
       "9    -0.106230\n",
       "10   -0.207733\n",
       "11   -0.353257\n",
       "12   -0.202027\n",
       "dtype: float64"
      ]
     },
     "execution_count": 245,
     "metadata": {},
     "output_type": "execute_result"
    }
   ],
   "source": [
    "x_df=pd.DataFrame(x)\n",
    "x_df.skew()"
   ]
  },
  {
   "cell_type": "code",
   "execution_count": 246,
   "id": "cd6fa532",
   "metadata": {},
   "outputs": [
    {
     "data": {
      "text/plain": [
       "0    -0.044111\n",
       "1    -0.238390\n",
       "2     0.039851\n",
       "3    -0.321029\n",
       "4     0.351675\n",
       "5    -1.538898\n",
       "6    -0.049691\n",
       "7    -0.160572\n",
       "8    -0.341205\n",
       "9    -0.106211\n",
       "10   -0.221800\n",
       "11   -0.408083\n",
       "12   -0.204967\n",
       "dtype: float64"
      ]
     },
     "execution_count": 246,
     "metadata": {},
     "output_type": "execute_result"
    }
   ],
   "source": [
    "x_test_df=pd.DataFrame(x_test)\n",
    "x_test_df.skew()"
   ]
  },
  {
   "cell_type": "markdown",
   "id": "923a5e64",
   "metadata": {},
   "source": [
    "# scaling independent data"
   ]
  },
  {
   "cell_type": "markdown",
   "id": "03c45b41",
   "metadata": {},
   "source": [
    "using StandardScaler"
   ]
  },
  {
   "cell_type": "code",
   "execution_count": 247,
   "id": "2573e297",
   "metadata": {},
   "outputs": [],
   "source": [
    "#mean=0, std=1\n",
    "from sklearn.preprocessing import StandardScaler\n",
    "scaler = StandardScaler()"
   ]
  },
  {
   "cell_type": "code",
   "execution_count": 248,
   "id": "fbf12c25",
   "metadata": {},
   "outputs": [],
   "source": [
    "scaler.fit(x)\n",
    "x_scaled=scaler.transform(x)"
   ]
  },
  {
   "cell_type": "code",
   "execution_count": 249,
   "id": "6391492c",
   "metadata": {},
   "outputs": [],
   "source": [
    "scaler.fit(x_test)\n",
    "x_test_scaled=scaler.transform(x_test)"
   ]
  },
  {
   "cell_type": "code",
   "execution_count": 250,
   "id": "f46debc8",
   "metadata": {},
   "outputs": [],
   "source": [
    "y2=np.array(df_sample)"
   ]
  },
  {
   "cell_type": "code",
   "execution_count": 251,
   "id": "1a9141dc",
   "metadata": {},
   "outputs": [
    {
     "data": {
      "text/plain": [
       "array([[15998],\n",
       "       [16612],\n",
       "       [25572],\n",
       "       ...,\n",
       "       [22720],\n",
       "       [23544],\n",
       "       [27489]], dtype=int64)"
      ]
     },
     "execution_count": 251,
     "metadata": {},
     "output_type": "execute_result"
    }
   ],
   "source": [
    "y2"
   ]
  },
  {
   "cell_type": "markdown",
   "id": "39e396d6",
   "metadata": {},
   "source": [
    "# Model Building and Evaluation"
   ]
  },
  {
   "cell_type": "code",
   "execution_count": 252,
   "id": "1162709e",
   "metadata": {},
   "outputs": [],
   "source": [
    "from sklearn.model_selection import train_test_split\n",
    "from sklearn.metrics import r2_score"
   ]
  },
  {
   "cell_type": "markdown",
   "id": "cc3a4607",
   "metadata": {},
   "source": [
    "### Since our target variable(Price) is continous data we use Regression Models"
   ]
  },
  {
   "cell_type": "markdown",
   "id": "e57705dc",
   "metadata": {},
   "source": [
    "# Linear Regression"
   ]
  },
  {
   "cell_type": "markdown",
   "id": "2be23013",
   "metadata": {},
   "source": [
    "## Finding Best Random State for LinerRegression"
   ]
  },
  {
   "cell_type": "code",
   "execution_count": 253,
   "id": "94567171",
   "metadata": {},
   "outputs": [
    {
     "name": "stdout",
     "output_type": "stream",
     "text": [
      "Accuracy 0.49794275433575297 random_state 1\n",
      "Accuracy 0.5099450951998816 random_state 3\n",
      "Accuracy 0.511258430069837 random_state 8\n",
      "Accuracy 0.515640083777554 random_state 15\n",
      "Accuracy 0.5185374925555476 random_state 35\n",
      "Accuracy 0.5224760061099802 random_state 42\n",
      "Accuracy 0.5242762621768245 random_state 106\n",
      "Accuracy 0.5284385315583318 random_state 117\n",
      "Accuracy 0.5322005344873783 random_state 747\n",
      "Accuracy 0.5356339422280025 random_state 1183\n",
      "Accuracy 0.535703117814311 random_state 1431\n"
     ]
    }
   ],
   "source": [
    "from sklearn.linear_model import LinearRegression\n",
    "\n",
    "maxAcc=0\n",
    "maxRS=0\n",
    "scores=[]\n",
    "\n",
    "for i in range(1,1500):\n",
    "    x_train,x_test,y_train,y_test=train_test_split(x_scaled,y,test_size=0.20,random_state=i)\n",
    "    #creating instance for linearRegression\n",
    "    lm=LinearRegression()\n",
    "    #training the Model\n",
    "    lm.fit(x_train,y_train)\n",
    "    #predicting  the target test value\n",
    "    pred_lm=lm.predict(x_test)\n",
    "    acc=r2_score(y_test,pred_lm)\n",
    "    \n",
    "    if acc>maxAcc:\n",
    "        maxAcc=acc\n",
    "        maxRS=i\n",
    "        print('Accuracy', maxAcc, 'random_state', maxRS)\n"
   ]
  },
  {
   "cell_type": "markdown",
   "id": "60fce755",
   "metadata": {},
   "source": [
    "## LinearRegression with best random state"
   ]
  },
  {
   "cell_type": "code",
   "execution_count": 254,
   "id": "004abd78",
   "metadata": {},
   "outputs": [],
   "source": [
    "x_train1,x_test1,y_train1,y_test1=train_test_split(x_scaled,y,test_size=0.20,random_state=1431)"
   ]
  },
  {
   "cell_type": "code",
   "execution_count": 255,
   "id": "b6ff7996",
   "metadata": {},
   "outputs": [
    {
     "name": "stdout",
     "output_type": "stream",
     "text": [
      "x_train1 shape:  (8416, 13)\n",
      "x_test1 shape:  (2105, 13)\n",
      "y_train1 shape:  (8416,)\n",
      "y_test1 shape:  (2105,)\n"
     ]
    }
   ],
   "source": [
    "#printing shape of train and test data\n",
    "print('x_train1 shape: ',x_train1.shape)\n",
    "print('x_test1 shape: ',x_test1.shape)\n",
    "print('y_train1 shape: ',y_train1.shape)\n",
    "print('y_test1 shape: ',y_test1.shape)"
   ]
  },
  {
   "cell_type": "code",
   "execution_count": 256,
   "id": "544f1c5b",
   "metadata": {},
   "outputs": [],
   "source": [
    "#creating instance for linearRegression\n",
    "lm=LinearRegression()\n",
    "#training the Model\n",
    "lm.fit(x_train1,y_train1)\n",
    "#predicting  the target value\n",
    "lm_pred=lm.predict(x_test1)"
   ]
  },
  {
   "cell_type": "markdown",
   "id": "d52bf0cd",
   "metadata": {},
   "source": [
    "## Evaluation"
   ]
  },
  {
   "cell_type": "code",
   "execution_count": 257,
   "id": "3e7a7ebf",
   "metadata": {},
   "outputs": [
    {
     "name": "stdout",
     "output_type": "stream",
     "text": [
      " mean absolute error: 2188.4935653721022 \n",
      " mean absolute error percentage: 31.74 %\n"
     ]
    }
   ],
   "source": [
    "# calculating the mean absolute error\n",
    "from sklearn.metrics import mean_absolute_error\n",
    "\n",
    "abserror=mean_absolute_error(y_test1,lm_pred)\n",
    "\n",
    "#calculating the percentage of mean absolute rror\n",
    "mean_abs_percentage_error= 100 * (abserror / y_test1)\n",
    "\n",
    "print(' mean absolute error:', abserror,'\\n','mean absolute error percentage:', round(np.mean(mean_abs_percentage_error),2),'%')"
   ]
  },
  {
   "cell_type": "code",
   "execution_count": 259,
   "id": "63155c56",
   "metadata": {},
   "outputs": [
    {
     "name": "stdout",
     "output_type": "stream",
     "text": [
      "r2_score: 0.535703117814311 \n",
      "\n",
      "Accuracy: 53.57 %\n"
     ]
    }
   ],
   "source": [
    "#calculating r2_score\n",
    "from sklearn.metrics import r2_score\n",
    "\n",
    "print('r2_score:', r2_score(y_test1,lm_pred),'\\n\\nAccuracy:',round(100*(r2_score(y_test1,lm_pred)),2),'%')"
   ]
  },
  {
   "cell_type": "markdown",
   "id": "e2563749",
   "metadata": {},
   "source": [
    "## cross-validation of the model"
   ]
  },
  {
   "cell_type": "code",
   "execution_count": 264,
   "id": "441e8de9",
   "metadata": {},
   "outputs": [
    {
     "name": "stdout",
     "output_type": "stream",
     "text": [
      "cross validation score of LinearRegression at cross fold 5:  49.0414127522622 and accuracy score of testing model is: 53.5703117814311\n"
     ]
    }
   ],
   "source": [
    "from sklearn.model_selection import cross_val_score\n",
    "\n",
    "test_score=r2_score(y_test1,lm_pred)\n",
    "\n",
    "#Linear Regression\n",
    "scr=cross_val_score(lm,x,y,cv=5)\n",
    "print('cross validation score of LinearRegression at cross fold 5: ',100*scr.mean(), 'and accuracy score of testing model is:',test_score*100   )"
   ]
  },
  {
   "cell_type": "markdown",
   "id": "2e16fb35",
   "metadata": {},
   "source": [
    "# Random Forest Regressor"
   ]
  },
  {
   "cell_type": "markdown",
   "id": "d103c30a",
   "metadata": {},
   "source": [
    "## Finding Best Random State for Random Forest Regressor"
   ]
  },
  {
   "cell_type": "code",
   "execution_count": 267,
   "id": "b1b26ea9",
   "metadata": {},
   "outputs": [
    {
     "name": "stdout",
     "output_type": "stream",
     "text": [
      "Accuracy 0.9181626049625957 random_state 1\n",
      "Accuracy 0.9226724161770906 random_state 3\n",
      "Accuracy 0.9232602564138285 random_state 5\n",
      "Accuracy 0.9245919344634955 random_state 7\n",
      "Accuracy 0.9270267480252423 random_state 8\n",
      "Accuracy 0.9325523471944104 random_state 17\n",
      "Accuracy 0.9333586374845996 random_state 72\n",
      "Accuracy 0.9353212172203466 random_state 103\n"
     ]
    }
   ],
   "source": [
    "from sklearn.ensemble import RandomForestRegressor\n",
    "\n",
    "maxAcc=0\n",
    "maxRS=0\n",
    "\n",
    "for i in range(1,150):\n",
    "    x_train,x_test,y_train,y_test=train_test_split(x_scaled,y,test_size=0.20,random_state=i)\n",
    "    #creating instance for RandomForestRegressor\n",
    "    RFR = RandomForestRegressor(n_estimators = 20, random_state = 50)\n",
    "    # training model using training data\n",
    "    RFR.fit(x_train, y_train)\n",
    "    #predicting the data\n",
    "    pred_RFR=RFR.predict(x_test)\n",
    "    acc=r2_score(y_test,pred_RFR)\n",
    "    \n",
    "    if acc>maxAcc:\n",
    "        maxAcc=acc\n",
    "        maxRS=i\n",
    "        print('Accuracy', maxAcc, 'random_state', maxRS)"
   ]
  },
  {
   "cell_type": "markdown",
   "id": "6ed44ca9",
   "metadata": {},
   "source": [
    "## Random Forest Regressor with best random state"
   ]
  },
  {
   "cell_type": "code",
   "execution_count": 268,
   "id": "0c3d2d00",
   "metadata": {},
   "outputs": [],
   "source": [
    "x_train2,x_test2,y_train2,y_test2=train_test_split(x_scaled,y,test_size=0.20,random_state=103)"
   ]
  },
  {
   "cell_type": "code",
   "execution_count": 335,
   "id": "06342e5f",
   "metadata": {
    "scrolled": true
   },
   "outputs": [
    {
     "name": "stdout",
     "output_type": "stream",
     "text": [
      "x_train2 shape:  (8416, 13)\n",
      "x_test2 shape:  (2105, 13)\n",
      "y_train2 shape:  (8416,)\n",
      "y_test2 shape:  (2105,)\n"
     ]
    }
   ],
   "source": [
    "#printing shape of train and test data\n",
    "print('x_train2 shape: ',x_train2.shape)\n",
    "print('x_test2 shape: ',x_test2.shape)\n",
    "print('y_train2 shape: ',y_train2.shape)\n",
    "print('y_test2 shape: ',y_test2.shape)"
   ]
  },
  {
   "cell_type": "code",
   "execution_count": 339,
   "id": "504b41b5",
   "metadata": {},
   "outputs": [],
   "source": [
    "#creating instance for RandomForestRegressor\n",
    "RFR = RandomForestRegressor(n_estimators = 20, random_state = 50)\n",
    "\n",
    "# training model using training data\n",
    "RFR.fit(x_train2, y_train2)\n",
    "\n",
    "#predicting the data\n",
    "RFR_pred=RFR.predict(x_test2)"
   ]
  },
  {
   "cell_type": "markdown",
   "id": "57cb77cf",
   "metadata": {},
   "source": [
    "## Evaluation"
   ]
  },
  {
   "cell_type": "code",
   "execution_count": 340,
   "id": "38dab79d",
   "metadata": {},
   "outputs": [
    {
     "name": "stdout",
     "output_type": "stream",
     "text": [
      " mean absolute error: 535.5362059156205 \n",
      " mean absolute error percentage: 7.68 %\n"
     ]
    }
   ],
   "source": [
    "# calculating the mean absolute error\n",
    "from sklearn.metrics import mean_absolute_error\n",
    "\n",
    "abserror=mean_absolute_error(y_test2,RFR_pred)\n",
    "\n",
    "#calculating the percentage of mean absolute rror\n",
    "mean_abs_percentage_error= 100 * (abserror / y_test2)\n",
    "\n",
    "print(' mean absolute error:', abserror,'\\n','mean absolute error percentage:', round(np.mean(mean_abs_percentage_error),2),'%')"
   ]
  },
  {
   "cell_type": "code",
   "execution_count": 341,
   "id": "5c88d5d6",
   "metadata": {},
   "outputs": [
    {
     "name": "stdout",
     "output_type": "stream",
     "text": [
      " mean squared error: 1076640.716567137 \n",
      " mean squared error percentage: 15446.88 %\n"
     ]
    }
   ],
   "source": [
    "#calculating mean squared error\n",
    "from sklearn.metrics import mean_squared_error\n",
    "\n",
    "mse=mean_squared_error(y_test2,RFR_pred)\n",
    "\n",
    "#calculating the percentage of mean squared error\n",
    "mse_percentage= 100 * (mse / y_test2)\n",
    "\n",
    "print(' mean squared error:', mse,'\\n','mean squared error percentage:', round(np.mean(mse_percentage),2),'%')"
   ]
  },
  {
   "cell_type": "code",
   "execution_count": 342,
   "id": "8f0c4774",
   "metadata": {},
   "outputs": [
    {
     "name": "stdout",
     "output_type": "stream",
     "text": [
      "Root mean squared error: 1037.6129897833475\n"
     ]
    }
   ],
   "source": [
    "#calculating root mean squred error\n",
    "rmse=np.sqrt(mse)\n",
    "\n",
    "print('Root mean squared error:',rmse)"
   ]
  },
  {
   "cell_type": "code",
   "execution_count": 343,
   "id": "64b41446",
   "metadata": {},
   "outputs": [
    {
     "name": "stdout",
     "output_type": "stream",
     "text": [
      " mean squared log error: 0.013158295862131932\n"
     ]
    }
   ],
   "source": [
    "#calculating the mean squared log error\n",
    "from sklearn.metrics import mean_squared_log_error\n",
    "\n",
    "msle=mean_squared_log_error(y_test2,RFR_pred)\n",
    "print(' mean squared log error:', msle)"
   ]
  },
  {
   "cell_type": "code",
   "execution_count": 344,
   "id": "295d7435",
   "metadata": {},
   "outputs": [
    {
     "name": "stdout",
     "output_type": "stream",
     "text": [
      "score for training of model:  0.9836065925828372\n"
     ]
    }
   ],
   "source": [
    "#calculating score of train and test data\n",
    "print('score for training of model: ',RFR.score(x_train2,y_train2))"
   ]
  },
  {
   "cell_type": "code",
   "execution_count": 346,
   "id": "4c2d3ba3",
   "metadata": {},
   "outputs": [
    {
     "name": "stdout",
     "output_type": "stream",
     "text": [
      "r2_score: 0.9353212172203466 \n",
      "\n",
      "Accuracy: 93.53 %\n"
     ]
    }
   ],
   "source": [
    "# calculating r2_score\n",
    "from sklearn.metrics import r2_score\n",
    "\n",
    "print('r2_score:', r2_score(y_test2,RFR_pred),'\\n\\nAccuracy:',round(100*(r2_score(y_test2,RFR_pred)),2),'%')"
   ]
  },
  {
   "cell_type": "markdown",
   "id": "5d3bab9a",
   "metadata": {},
   "source": [
    "## cross-validation of the model"
   ]
  },
  {
   "cell_type": "code",
   "execution_count": 282,
   "id": "971f8c66",
   "metadata": {},
   "outputs": [
    {
     "name": "stdout",
     "output_type": "stream",
     "text": [
      "cross validation score of Random Forest Regressor at cross fold 15:  92.35409063278895 and accuracy score of testing model is: 93.53212172203466\n"
     ]
    }
   ],
   "source": [
    "from sklearn.model_selection import cross_val_score\n",
    "\n",
    "test_score=r2_score(y_test2,RFR_pred)\n",
    "\n",
    "#Super Vector Regressor\n",
    "scr=cross_val_score(RFR,x,y,cv=10)\n",
    "print('cross validation score of Random Forest Regressor at cross fold 15: ',100*scr.mean(), 'and accuracy score of testing model is:',test_score*100)"
   ]
  },
  {
   "cell_type": "markdown",
   "id": "efd161a3",
   "metadata": {},
   "source": [
    "# XGBRegressor"
   ]
  },
  {
   "cell_type": "code",
   "execution_count": 283,
   "id": "1b93f7f7",
   "metadata": {},
   "outputs": [
    {
     "name": "stdout",
     "output_type": "stream",
     "text": [
      "Requirement already satisfied: xgboost==1.0.1 in c:\\programdata\\anaconda3\\lib\\site-packages (1.0.1)"
     ]
    },
    {
     "name": "stderr",
     "output_type": "stream",
     "text": [
      "WARNING: Ignoring invalid distribution -rkupsafe (c:\\programdata\\anaconda3\\lib\\site-packages)\n",
      "WARNING: Ignoring invalid distribution - (c:\\programdata\\anaconda3\\lib\\site-packages)"
     ]
    },
    {
     "name": "stdout",
     "output_type": "stream",
     "text": [
      "\n",
      "Requirement already satisfied: scipy in c:\\programdata\\anaconda3\\lib\\site-packages (from xgboost==1.0.1) (1.7.1)\n",
      "Requirement already satisfied: numpy in c:\\programdata\\anaconda3\\lib\\site-packages (from xgboost==1.0.1) (1.20.3)\n"
     ]
    },
    {
     "name": "stderr",
     "output_type": "stream",
     "text": [
      "\n",
      "WARNING: Ignoring invalid distribution -cikit-learn (c:\\programdata\\anaconda3\\lib\\site-packages)\n",
      "WARNING: Ignoring invalid distribution -arkupsafe (c:\\programdata\\anaconda3\\lib\\site-packages)\n",
      "WARNING: Ignoring invalid distribution -rkupsafe (c:\\programdata\\anaconda3\\lib\\site-packages)\n",
      "WARNING: Ignoring invalid distribution - (c:\\programdata\\anaconda3\\lib\\site-packages)\n",
      "WARNING: Ignoring invalid distribution -cikit-learn (c:\\programdata\\anaconda3\\lib\\site-packages)\n",
      "WARNING: Ignoring invalid distribution -arkupsafe (c:\\programdata\\anaconda3\\lib\\site-packages)\n",
      "WARNING: Ignoring invalid distribution -rkupsafe (c:\\programdata\\anaconda3\\lib\\site-packages)\n",
      "WARNING: Ignoring invalid distribution - (c:\\programdata\\anaconda3\\lib\\site-packages)\n",
      "WARNING: Ignoring invalid distribution -cikit-learn (c:\\programdata\\anaconda3\\lib\\site-packages)\n",
      "WARNING: Ignoring invalid distribution -arkupsafe (c:\\programdata\\anaconda3\\lib\\site-packages)\n",
      "WARNING: Ignoring invalid distribution -rkupsafe (c:\\programdata\\anaconda3\\lib\\site-packages)\n",
      "WARNING: Ignoring invalid distribution - (c:\\programdata\\anaconda3\\lib\\site-packages)\n",
      "WARNING: Ignoring invalid distribution -cikit-learn (c:\\programdata\\anaconda3\\lib\\site-packages)\n",
      "WARNING: Ignoring invalid distribution -arkupsafe (c:\\programdata\\anaconda3\\lib\\site-packages)\n",
      "WARNING: Ignoring invalid distribution -rkupsafe (c:\\programdata\\anaconda3\\lib\\site-packages)\n",
      "WARNING: Ignoring invalid distribution - (c:\\programdata\\anaconda3\\lib\\site-packages)\n",
      "WARNING: Ignoring invalid distribution -cikit-learn (c:\\programdata\\anaconda3\\lib\\site-packages)\n",
      "WARNING: Ignoring invalid distribution -arkupsafe (c:\\programdata\\anaconda3\\lib\\site-packages)\n",
      "WARNING: Ignoring invalid distribution -rkupsafe (c:\\programdata\\anaconda3\\lib\\site-packages)\n",
      "WARNING: Ignoring invalid distribution - (c:\\programdata\\anaconda3\\lib\\site-packages)\n",
      "WARNING: Ignoring invalid distribution -cikit-learn (c:\\programdata\\anaconda3\\lib\\site-packages)\n",
      "WARNING: Ignoring invalid distribution -arkupsafe (c:\\programdata\\anaconda3\\lib\\site-packages)\n"
     ]
    }
   ],
   "source": [
    "! pip install xgboost==1.0.1"
   ]
  },
  {
   "cell_type": "code",
   "execution_count": 285,
   "id": "563c4341",
   "metadata": {},
   "outputs": [],
   "source": [
    "from xgboost.sklearn import XGBRegressor"
   ]
  },
  {
   "cell_type": "code",
   "execution_count": 286,
   "id": "1ad2bec6",
   "metadata": {},
   "outputs": [],
   "source": [
    "xgb=XGBRegressor()"
   ]
  },
  {
   "cell_type": "markdown",
   "id": "0a9ebfd7",
   "metadata": {},
   "source": [
    "## Finding best random state for XGBRegressor"
   ]
  },
  {
   "cell_type": "code",
   "execution_count": 289,
   "id": "6b8b2b6a",
   "metadata": {},
   "outputs": [
    {
     "name": "stdout",
     "output_type": "stream",
     "text": [
      "Accuracy 0.9308181470707977 random_state 1\n",
      "Accuracy 0.9349400085406232 random_state 3\n",
      "Accuracy 0.9352663331012098 random_state 7\n",
      "Accuracy 0.9414178369548857 random_state 8\n",
      "Accuracy 0.9429434766619059 random_state 78\n"
     ]
    }
   ],
   "source": [
    "maxAcc=0\n",
    "maxRS=0\n",
    "\n",
    "for i in range(1,150):\n",
    "    x_train,x_test,y_train,y_test=train_test_split(x_scaled,y,test_size=0.20,random_state=i)\n",
    "    #training the data\n",
    "    xgb.fit(x_train,y_train)\n",
    "\n",
    "    #predicting the data\n",
    "    pred_xgb=xgb.predict(x_test)\n",
    "    acc=r2_score(y_test,pred_xgb)\n",
    "    \n",
    "    if acc>maxAcc:\n",
    "        maxAcc=acc\n",
    "        maxRS=i\n",
    "        print('Accuracy', maxAcc, 'random_state', maxRS)"
   ]
  },
  {
   "cell_type": "markdown",
   "id": "38d10a67",
   "metadata": {},
   "source": [
    "## XGBRegressor with best random state"
   ]
  },
  {
   "cell_type": "code",
   "execution_count": 290,
   "id": "25190ed1",
   "metadata": {},
   "outputs": [],
   "source": [
    "x_train4,x_test4,y_train4,y_test4=train_test_split(x_scaled,y,test_size=0.20,random_state=78)"
   ]
  },
  {
   "cell_type": "code",
   "execution_count": 291,
   "id": "9adfe28d",
   "metadata": {},
   "outputs": [
    {
     "name": "stdout",
     "output_type": "stream",
     "text": [
      "x_train4 shape:  (8416, 13)\n",
      "x_test4 shape:  (2105, 13)\n",
      "y_train4 shape:  (8416,)\n",
      "y_test4 shape:  (2105,)\n"
     ]
    }
   ],
   "source": [
    "#printing shape of train and test data\n",
    "print('x_train4 shape: ',x_train4.shape)\n",
    "print('x_test4 shape: ',x_test4.shape)\n",
    "print('y_train4 shape: ',y_train4.shape)\n",
    "print('y_test4 shape: ',y_test4.shape)"
   ]
  },
  {
   "cell_type": "code",
   "execution_count": 292,
   "id": "64c8e788",
   "metadata": {},
   "outputs": [],
   "source": [
    "#training the data\n",
    "xgb.fit(x_train4,y_train4)\n",
    "\n",
    "#predicting the data\n",
    "xgb_pred=xgb.predict(x_test4)"
   ]
  },
  {
   "cell_type": "markdown",
   "id": "bfea3a21",
   "metadata": {},
   "source": [
    "## Evaluation"
   ]
  },
  {
   "cell_type": "code",
   "execution_count": 293,
   "id": "e063f203",
   "metadata": {},
   "outputs": [
    {
     "name": "stdout",
     "output_type": "stream",
     "text": [
      " mean absolute error: 617.2051891770896 \n",
      " mean absolute error percentage: 8.98 %\n"
     ]
    }
   ],
   "source": [
    "# calculating the mean absolute error\n",
    "from sklearn.metrics import mean_absolute_error\n",
    "\n",
    "abserror=mean_absolute_error(y_test4,xgb_pred)\n",
    "\n",
    "#calculating the percentage of mean absolute rror\n",
    "mean_abs_percentage_error= 100 * (abserror / y_test4)\n",
    "\n",
    "print(' mean absolute error:', abserror,'\\n','mean absolute error percentage:', round(np.mean(mean_abs_percentage_error),2),'%')"
   ]
  },
  {
   "cell_type": "code",
   "execution_count": 294,
   "id": "7ab3bd68",
   "metadata": {},
   "outputs": [
    {
     "name": "stdout",
     "output_type": "stream",
     "text": [
      " mean squared error: 932945.1479642907 \n",
      " mean squared error percentage: 13574.4 %\n"
     ]
    }
   ],
   "source": [
    "#calculating mean squared error\n",
    "from sklearn.metrics import mean_squared_error\n",
    "\n",
    "mse=mean_squared_error(y_test4,xgb_pred)\n",
    "\n",
    "#calculating the percentage of mean squared error\n",
    "mse_percentage= 100 * (mse / y_test4)\n",
    "\n",
    "print(' mean squared error:', mse,'\\n','mean squared error percentage:', round(np.mean(mse_percentage),2),'%')"
   ]
  },
  {
   "cell_type": "code",
   "execution_count": 295,
   "id": "fb843bca",
   "metadata": {},
   "outputs": [
    {
     "name": "stdout",
     "output_type": "stream",
     "text": [
      "Root mean squared error: 965.8908571698413\n"
     ]
    }
   ],
   "source": [
    "#calculating root mean squred error\n",
    "rmse=np.sqrt(mse)\n",
    "\n",
    "print('Root mean squared error:',rmse)"
   ]
  },
  {
   "cell_type": "code",
   "execution_count": 296,
   "id": "b896c4c2",
   "metadata": {},
   "outputs": [
    {
     "name": "stdout",
     "output_type": "stream",
     "text": [
      " mean squared log error: 0.012559933662128715\n"
     ]
    }
   ],
   "source": [
    "#calculating the mean squared log error\n",
    "from sklearn.metrics import mean_squared_log_error\n",
    "\n",
    "msle=mean_squared_log_error(y_test4,xgb_pred)\n",
    "print(' mean squared log error:', msle)"
   ]
  },
  {
   "cell_type": "code",
   "execution_count": 297,
   "id": "dadb3c96",
   "metadata": {},
   "outputs": [
    {
     "name": "stdout",
     "output_type": "stream",
     "text": [
      "score for training of model:  0.9749905732481605\n"
     ]
    }
   ],
   "source": [
    "#calculating score of train and test data\n",
    "print('score for training of model: ',xgb.score(x_train4,y_train4))"
   ]
  },
  {
   "cell_type": "code",
   "execution_count": 298,
   "id": "dd797df8",
   "metadata": {},
   "outputs": [
    {
     "name": "stdout",
     "output_type": "stream",
     "text": [
      "r2_score: 0.9429434766619059 \n",
      "\n",
      "Accuracy: 94.29 %\n"
     ]
    }
   ],
   "source": [
    "#calculating r2_score\n",
    "from sklearn.metrics import r2_score\n",
    "\n",
    "print('r2_score:', r2_score(y_test4,xgb_pred),'\\n\\nAccuracy:',round(100*(r2_score(y_test4,xgb_pred)),2),'%')"
   ]
  },
  {
   "cell_type": "markdown",
   "id": "179827fe",
   "metadata": {},
   "source": [
    "## cross-validation of the model"
   ]
  },
  {
   "cell_type": "code",
   "execution_count": 303,
   "id": "490c593b",
   "metadata": {},
   "outputs": [
    {
     "name": "stdout",
     "output_type": "stream",
     "text": [
      "cross validation score of XGBRegressor at cross fold 10:  93.60515416642802 and accuracy score of testing model is: 94.29434766619059\n"
     ]
    }
   ],
   "source": [
    "from sklearn.model_selection import cross_val_score\n",
    "\n",
    "test_score=r2_score(y_test4,xgb_pred)\n",
    "\n",
    "#XGBRegressor\n",
    "scr=cross_val_score(xgb,x,y,cv=10)\n",
    "print('cross validation score of XGBRegressor at cross fold 10: ',100*scr.mean(), 'and accuracy score of testing model is:',test_score*100)"
   ]
  },
  {
   "cell_type": "markdown",
   "id": "bd3a5c4b",
   "metadata": {},
   "source": [
    "# Regularization"
   ]
  },
  {
   "cell_type": "code",
   "execution_count": 304,
   "id": "56bcb5c0",
   "metadata": {},
   "outputs": [],
   "source": [
    "from sklearn.linear_model import Lasso"
   ]
  },
  {
   "cell_type": "code",
   "execution_count": 305,
   "id": "70033b75",
   "metadata": {},
   "outputs": [
    {
     "name": "stdout",
     "output_type": "stream",
     "text": [
      "1430\n"
     ]
    }
   ],
   "source": [
    "maxAcc=0\n",
    "maxRS=0\n",
    "scores=[]\n",
    "\n",
    "for i in range(1,1500):\n",
    "    x_train,x_test,y_train,y_test=train_test_split(x_scaled,y,test_size=0.20,random_state=i)\n",
    "    ls=Lasso()\n",
    "    ls.fit(x_train,y_train)\n",
    "    ls_pred=ls.predict(x_test)\n",
    "    scores.append(r2_score(y_test,ls_pred))\n",
    "    \n",
    "print(np.argmax(scores))"
   ]
  },
  {
   "cell_type": "markdown",
   "id": "6a9123ab",
   "metadata": {},
   "source": [
    "## Regularization with best random state"
   ]
  },
  {
   "cell_type": "code",
   "execution_count": 307,
   "id": "426a342f",
   "metadata": {},
   "outputs": [],
   "source": [
    "x_train5,x_test5,y_train5,y_test5=train_test_split(x_scaled,y,test_size=0.20,random_state=1430)"
   ]
  },
  {
   "cell_type": "code",
   "execution_count": 308,
   "id": "b1202c9f",
   "metadata": {},
   "outputs": [
    {
     "name": "stdout",
     "output_type": "stream",
     "text": [
      "x_train5 shape:  (8416, 13)\n",
      "x_test5 shape:  (2105, 13)\n",
      "y_train5 shape:  (8416,)\n",
      "y_test5 shape:  (2105,)\n"
     ]
    }
   ],
   "source": [
    "#printing shape of train and test data\n",
    "print('x_train5 shape: ',x_train5.shape)\n",
    "print('x_test5 shape: ',x_test5.shape)\n",
    "print('y_train5 shape: ',y_train5.shape)\n",
    "print('y_test5 shape: ',y_test5.shape)"
   ]
  },
  {
   "cell_type": "code",
   "execution_count": 309,
   "id": "ff0de290",
   "metadata": {},
   "outputs": [],
   "source": [
    "#creating insatnce\n",
    "ls=Lasso()\n",
    "#training model\n",
    "ls.fit(x_train5,y_train5)\n",
    "#predicting data\n",
    "ls_pred=ls.predict(x_test5)"
   ]
  },
  {
   "cell_type": "markdown",
   "id": "26d21b1c",
   "metadata": {},
   "source": [
    "## Evaluation"
   ]
  },
  {
   "cell_type": "code",
   "execution_count": 310,
   "id": "9bce1b75",
   "metadata": {},
   "outputs": [
    {
     "name": "stdout",
     "output_type": "stream",
     "text": [
      " mean absolute error: 2282.8884640579563 \n",
      " mean absolute error percentage: 33.15 %\n"
     ]
    }
   ],
   "source": [
    "# calculating the mean absolute error\n",
    "from sklearn.metrics import mean_absolute_error\n",
    "\n",
    "abserror=mean_absolute_error(y_test5,ls_pred)\n",
    "\n",
    "#calculating the percentage of mean absolute rror\n",
    "mean_abs_percentage_error= 100 * (abserror / y_test5)\n",
    "\n",
    "print(' mean absolute error:', abserror,'\\n','mean absolute error percentage:', round(np.mean(mean_abs_percentage_error),2),'%')"
   ]
  },
  {
   "cell_type": "code",
   "execution_count": 311,
   "id": "cb6c0536",
   "metadata": {},
   "outputs": [
    {
     "name": "stdout",
     "output_type": "stream",
     "text": [
      " mean squared error: 8578893.344446 \n",
      " mean squared error percentage: 124560.08 %\n"
     ]
    }
   ],
   "source": [
    "#calculating mean squared error\n",
    "from sklearn.metrics import mean_squared_error\n",
    "\n",
    "mse=mean_squared_error(y_test5,ls_pred)\n",
    "\n",
    "#calculating the percentage of mean squared error\n",
    "mse_percentage= 100 * (mse / y_test5)\n",
    "\n",
    "print(' mean squared error:', mse,'\\n','mean squared error percentage:', round(np.mean(mse_percentage),2),'%')"
   ]
  },
  {
   "cell_type": "code",
   "execution_count": 312,
   "id": "98747f20",
   "metadata": {},
   "outputs": [
    {
     "name": "stdout",
     "output_type": "stream",
     "text": [
      "Root mean squared error: 2928.9747940953675\n"
     ]
    }
   ],
   "source": [
    "#calculating root mean squred error\n",
    "rmse=np.sqrt(mse)\n",
    "\n",
    "print('Root mean squared error:',rmse)"
   ]
  },
  {
   "cell_type": "code",
   "execution_count": 313,
   "id": "691def7b",
   "metadata": {},
   "outputs": [
    {
     "name": "stdout",
     "output_type": "stream",
     "text": [
      " mean squared log error: 0.11046776794479689\n"
     ]
    }
   ],
   "source": [
    "#calculating the mean squared log error\n",
    "from sklearn.metrics import mean_squared_log_error\n",
    "\n",
    "msle=mean_squared_log_error(y_test5,ls_pred)\n",
    "print(' mean squared log error:', msle)"
   ]
  },
  {
   "cell_type": "code",
   "execution_count": 314,
   "id": "c951f0a6",
   "metadata": {},
   "outputs": [
    {
     "name": "stdout",
     "output_type": "stream",
     "text": [
      "score for training of model:  0.49622504076525076\n"
     ]
    }
   ],
   "source": [
    "#calculating score of train model\n",
    "print('score for training of model: ',ls.score(x_train5,y_train5))"
   ]
  },
  {
   "cell_type": "code",
   "execution_count": 315,
   "id": "2002035a",
   "metadata": {},
   "outputs": [
    {
     "name": "stdout",
     "output_type": "stream",
     "text": [
      "r2_score: 0.4769072245152237 \n",
      "\n",
      "Accuracy: 47.69 %\n"
     ]
    }
   ],
   "source": [
    "#calculating r2_score\n",
    "from sklearn.metrics import r2_score\n",
    "\n",
    "print('r2_score:', r2_score(y_test5,ls_pred),'\\n\\nAccuracy:',round(100*(r2_score(y_test5,ls_pred)),2),'%')"
   ]
  },
  {
   "cell_type": "markdown",
   "id": "e34c3174",
   "metadata": {},
   "source": [
    "## cross-validation of the model"
   ]
  },
  {
   "cell_type": "code",
   "execution_count": 316,
   "id": "6e3ce50e",
   "metadata": {},
   "outputs": [
    {
     "name": "stdout",
     "output_type": "stream",
     "text": [
      "cross validation score of lasso at cross fold 4:  49.00568296433685 and accuracy score of testing model is: 47.69072245152237\n"
     ]
    }
   ],
   "source": [
    "from sklearn.model_selection import cross_val_score\n",
    "\n",
    "test_score=r2_score(y_test5,ls_pred)\n",
    "\n",
    "#lasso regularization\n",
    "scr=cross_val_score(ls,x,y,cv=15)\n",
    "print('cross validation score of lasso at cross fold 4: ',100*scr.mean(), 'and accuracy score of testing model is:',test_score*100)"
   ]
  },
  {
   "cell_type": "markdown",
   "id": "9d187136",
   "metadata": {},
   "source": [
    "# Hyper Parameter Tuning: Ensembled techniques"
   ]
  },
  {
   "cell_type": "markdown",
   "id": "0c623a51",
   "metadata": {},
   "source": [
    "From the above model XGBregressor working more effective compared to others so we continue hyper parameter tuning with XGBRegressor"
   ]
  },
  {
   "cell_type": "code",
   "execution_count": 347,
   "id": "c79dcd9b",
   "metadata": {},
   "outputs": [],
   "source": [
    "from sklearn.model_selection import GridSearchCV"
   ]
  },
  {
   "cell_type": "code",
   "execution_count": 348,
   "id": "c8dbce94",
   "metadata": {},
   "outputs": [
    {
     "name": "stdout",
     "output_type": "stream",
     "text": [
      "{'colsample_bytree': 0.5, 'max_depth': 7, 'min_child_weight': 1, 'subsample': 1}\n"
     ]
    }
   ],
   "source": [
    "eta=list(np.arange(0.01,0.31,0.01))\n",
    "parameters={'max_depth':[3,4,5,6,7,8,9,10],'min_child_weight':[1],'subsample':[1],'colsample_bytree':[0.5,1]}\n",
    "\n",
    "XGB=XGBRegressor()\n",
    "gcv=GridSearchCV(XGB,parameters)\n",
    "gcv.fit(x_train4,y_train4)\n",
    "\n",
    "print(gcv.best_params_)"
   ]
  },
  {
   "cell_type": "code",
   "execution_count": 354,
   "id": "d98f8760",
   "metadata": {},
   "outputs": [
    {
     "data": {
      "text/plain": [
       "0.941942225027566"
      ]
     },
     "execution_count": 354,
     "metadata": {},
     "output_type": "execute_result"
    }
   ],
   "source": [
    "XGB_best=XGBRegressor(colsample_bytree=0.5,max_depth=7,min_child_weight=1,subsample=1)\n",
    "XGB_best.fit(x_train4,y_train4)\n",
    "XGB_best_pred=XGB_best.predict(x_test4)\n",
    "\n",
    "XGB_score=r2_score(y_test4,XGB_best_pred)\n",
    "XGB_best.score(x_train4,y_train4)\n",
    "XGB_score"
   ]
  },
  {
   "cell_type": "markdown",
   "id": "b9250370",
   "metadata": {},
   "source": [
    "## Evaluation"
   ]
  },
  {
   "cell_type": "code",
   "execution_count": 355,
   "id": "da376f4b",
   "metadata": {},
   "outputs": [
    {
     "name": "stdout",
     "output_type": "stream",
     "text": [
      " mean absolute error: 608.7349732315172 \n",
      " mean absolute error percentage: 8.86 %\n"
     ]
    }
   ],
   "source": [
    "# calculating the mean absolute error\n",
    "from sklearn.metrics import mean_absolute_error\n",
    "\n",
    "abserror=mean_absolute_error(y_test4,XGB_best_pred)\n",
    "\n",
    "#calculating the percentage of mean absolute rror\n",
    "mean_abs_percentage_error= 100 * (abserror / y_test4)\n",
    "\n",
    "print(' mean absolute error:', abserror,'\\n','mean absolute error percentage:', round(np.mean(mean_abs_percentage_error),2),'%')"
   ]
  },
  {
   "cell_type": "code",
   "execution_count": 356,
   "id": "ba80598c",
   "metadata": {},
   "outputs": [
    {
     "name": "stdout",
     "output_type": "stream",
     "text": [
      " mean squared error: 949316.857972164 \n",
      " mean squared error percentage: 13812.61 %\n"
     ]
    }
   ],
   "source": [
    "#calculating mean squared error\n",
    "from sklearn.metrics import mean_squared_error\n",
    "\n",
    "mse=mean_squared_error(y_test4,XGB_best_pred)\n",
    "\n",
    "#calculating the percentage of mean squared error\n",
    "mse_percentage= 100 * (mse / y_test4)\n",
    "\n",
    "print(' mean squared error:', mse,'\\n','mean squared error percentage:', round(np.mean(mse_percentage),2),'%')"
   ]
  },
  {
   "cell_type": "code",
   "execution_count": 357,
   "id": "fe05fa07",
   "metadata": {},
   "outputs": [
    {
     "name": "stdout",
     "output_type": "stream",
     "text": [
      "score for tarining of model; 0.9778552286964144\n"
     ]
    }
   ],
   "source": [
    "print('score for tarining of model;',XGB_best.score(x_train4,y_train4))"
   ]
  },
  {
   "cell_type": "code",
   "execution_count": 358,
   "id": "1781930d",
   "metadata": {},
   "outputs": [
    {
     "data": {
      "text/plain": [
       "0.941942225027566"
      ]
     },
     "execution_count": 358,
     "metadata": {},
     "output_type": "execute_result"
    }
   ],
   "source": [
    "XGB_score=r2_score(y_test4,XGB_best_pred)\n",
    "XGB_score"
   ]
  },
  {
   "cell_type": "markdown",
   "id": "1be3f080",
   "metadata": {},
   "source": [
    "## cross-validation of the model"
   ]
  },
  {
   "cell_type": "code",
   "execution_count": 362,
   "id": "f7909aa3",
   "metadata": {},
   "outputs": [
    {
     "name": "stdout",
     "output_type": "stream",
     "text": [
      "cross validation score of XGBRegressor at cross fold 19:  93.94341962939492 and accuracy score of testing model is: 94.1942225027566\n"
     ]
    }
   ],
   "source": [
    "from sklearn.model_selection import cross_val_score\n",
    "\n",
    "test_score=r2_score(y_test4,XGB_best_pred)\n",
    "\n",
    "#XGBRegressor\n",
    "scr=cross_val_score(XGB_best,x,y,cv=19)\n",
    "print('cross validation score of XGBRegressor at cross fold 19: ',100*scr.mean(), 'and accuracy score of testing model is:',test_score*100)"
   ]
  },
  {
   "cell_type": "markdown",
   "id": "7d670292",
   "metadata": {},
   "source": [
    "# Model Saving(Regression Model)"
   ]
  },
  {
   "cell_type": "code",
   "execution_count": 364,
   "id": "de83d778",
   "metadata": {},
   "outputs": [],
   "source": [
    "import pickle"
   ]
  },
  {
   "cell_type": "code",
   "execution_count": 365,
   "id": "6268f73b",
   "metadata": {},
   "outputs": [],
   "source": [
    "XGBR_flight_price='Flight_price.pkl'\n",
    "pickle.dump(XGB_best,open(XGBR_flight_price,'wb'))"
   ]
  },
  {
   "cell_type": "markdown",
   "id": "193af31b",
   "metadata": {},
   "source": [
    "# Conclusion"
   ]
  },
  {
   "cell_type": "markdown",
   "id": "e91fd143",
   "metadata": {},
   "source": [
    "* I have selected XGBRegressor as my final model on the basis of its r2_score and cv score are 94.19 and 93.94 respectively.\n",
    "* the difference between r2_score and cv score is less among other models , its means the model is less underfitting/overfitting."
   ]
  },
  {
   "cell_type": "code",
   "execution_count": null,
   "id": "1dbc9598",
   "metadata": {},
   "outputs": [],
   "source": []
  }
 ],
 "metadata": {
  "kernelspec": {
   "display_name": "Python 3 (ipykernel)",
   "language": "python",
   "name": "python3"
  },
  "language_info": {
   "codemirror_mode": {
    "name": "ipython",
    "version": 3
   },
   "file_extension": ".py",
   "mimetype": "text/x-python",
   "name": "python",
   "nbconvert_exporter": "python",
   "pygments_lexer": "ipython3",
   "version": "3.9.7"
  }
 },
 "nbformat": 4,
 "nbformat_minor": 5
}
