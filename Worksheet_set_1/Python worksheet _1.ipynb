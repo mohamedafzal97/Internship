{
 "cells": [
  {
   "cell_type": "markdown",
   "id": "d79eb059",
   "metadata": {},
   "source": [
    "# PYTHON WORKSHEET - 1"
   ]
  },
  {
   "cell_type": "markdown",
   "id": "352d4a00",
   "metadata": {},
   "source": [
    "ANSWERS"
   ]
  },
  {
   "cell_type": "markdown",
   "id": "e4349def",
   "metadata": {},
   "source": [
    "Q1 --> C) %"
   ]
  },
  {
   "cell_type": "markdown",
   "id": "0b5b31ba",
   "metadata": {},
   "source": [
    "Q2 --> B) 0"
   ]
  },
  {
   "cell_type": "markdown",
   "id": "653ee981",
   "metadata": {},
   "source": [
    "Q3 --> C) 24"
   ]
  },
  {
   "cell_type": "markdown",
   "id": "9247c6a4",
   "metadata": {},
   "source": [
    "Q4 --> A) 2"
   ]
  },
  {
   "cell_type": "markdown",
   "id": "ddee5889",
   "metadata": {},
   "source": [
    "Q5 --> D) 6"
   ]
  },
  {
   "cell_type": "markdown",
   "id": "3c93f75f",
   "metadata": {},
   "source": [
    "Q6 --> C) The finally block will be executed no matter if the try block raises an error or not."
   ]
  },
  {
   "cell_type": "markdown",
   "id": "6a77a607",
   "metadata": {},
   "source": [
    "Q7 --> A) It is used to raise an exception."
   ]
  },
  {
   "cell_type": "markdown",
   "id": "957f6bf0",
   "metadata": {},
   "source": [
    "Q8 --> C) In defining a generator"
   ]
  },
  {
   "cell_type": "markdown",
   "id": "e9effcdb",
   "metadata": {},
   "source": [
    "Q9 --> A) _abc\n",
    "       C) abc2"
   ]
  },
  {
   "cell_type": "markdown",
   "id": "1522948a",
   "metadata": {},
   "source": [
    "Q10 -->A) yield\n",
    "       B) raise"
   ]
  },
  {
   "cell_type": "code",
   "execution_count": 7,
   "id": "391a1629",
   "metadata": {},
   "outputs": [
    {
     "name": "stdout",
     "output_type": "stream",
     "text": [
      "Enter the number:6\n",
      "factorial of 6 is 720\n"
     ]
    }
   ],
   "source": [
    "#Q11\n",
    "#program to find a factorial of a number\n",
    "\n",
    "number = int(input('Enter the number:'))\n",
    "factorial= 1\n",
    "for i in range(number,0,-1):\n",
    "    factorial=factorial*i\n",
    "    \n",
    "print('factorial of',number,'is',factorial)"
   ]
  },
  {
   "cell_type": "code",
   "execution_count": 9,
   "id": "69cfdf9e",
   "metadata": {},
   "outputs": [
    {
     "name": "stdout",
     "output_type": "stream",
     "text": [
      "Enter the number:13\n",
      "13 is a Prime Number\n"
     ]
    }
   ],
   "source": [
    "#Q12\n",
    "#program to find whether a number is prime or composite.\n",
    "\n",
    "num = int(input('Enter the number:'))\n",
    "p = 0\n",
    "for i in range(2, num):\n",
    "    if num%i==0:\n",
    "        p = 1\n",
    "        break\n",
    "\n",
    "if p==0:\n",
    "    print(num,\"is a Prime Number\")\n",
    "else:\n",
    "    print(num,\"is a composite Number\")"
   ]
  },
  {
   "cell_type": "code",
   "execution_count": 11,
   "id": "72f6d0d7",
   "metadata": {},
   "outputs": [
    {
     "name": "stdout",
     "output_type": "stream",
     "text": [
      "Enter string:eye\n",
      "The given string is a palindrome\n"
     ]
    }
   ],
   "source": [
    "#Q13\n",
    "#program to check a given string is palindrome or not\n",
    "\n",
    "string=input(\"Enter string:\")\n",
    "if(string==string[::-1]):\n",
    "      print(\"The given string is a palindrome\")\n",
    "else:\n",
    "      print(\"The given string is not a palindrome\")"
   ]
  },
  {
   "cell_type": "code",
   "execution_count": 18,
   "id": "9d1b0e8f",
   "metadata": {},
   "outputs": [
    {
     "name": "stdout",
     "output_type": "stream",
     "text": [
      "Hypotenuse = 18.027756377319946\n"
     ]
    }
   ],
   "source": [
    "#Q14\n",
    "#Program to find third side of a right angled triangle when two sides are given\n",
    "# a right angled triangle has hypotuneuse , adjacent and opposide.\n",
    "\n",
    "#according to pythogarous, hypotuneuse(here third side) = (opposite**2 + adjacent**2)**0.5\n",
    "\n",
    "def pythagoras(opposite_side,adjacent_side,hypotenuse):\n",
    "        #below code it to find opposite side \n",
    "        if opposite_side == str(\"x\"):\n",
    "            return (\"Opposite = \" + str(((hypotenuse**2) - (adjacent_side**2))**0.5))\n",
    "        # below code is to find adjacent side\n",
    "        elif adjacent_side == str(\"x\"):\n",
    "            return (\"Adjacent = \" + str(((hypotenuse**2) - (opposite_side**2))**0.5))\n",
    "        # below code is to find opposite side\n",
    "        elif hypotenuse == str(\"x\"):\n",
    "            return (\"Hypotenuse = \" + str(((opposite_side**2) + (adjacent_side**2))**0.5))\n",
    "        \n",
    "# to find hypotuneuse give first two values \n",
    "# to find adjacent side give first and third value\n",
    "# to find opposite side, give second and third value\n",
    "# here x is the side which has to find.\n",
    "\n",
    "#printing result\n",
    "print(pythagoras(15,10,'x'))"
   ]
  },
  {
   "cell_type": "code",
   "execution_count": 20,
   "id": "5f8fe711",
   "metadata": {},
   "outputs": [
    {
     "name": "stdout",
     "output_type": "stream",
     "text": [
      "Enter a string: training\n",
      "frequency of each  characters in given string is : {'t': 1, 'r': 1, 'a': 1, 'i': 2, 'n': 2, 'g': 1}\n"
     ]
    }
   ],
   "source": [
    "#Q15\n",
    "#program to print frequency of each of the  characters prsent in a given string.\n",
    "\n",
    "string=input('Enter a string: ')\n",
    "frequency = {}\n",
    "  \n",
    "for i in string:\n",
    "    if i in frequency:\n",
    "        frequency[i] = frequency[i]+1\n",
    "    else:\n",
    "        frequency[i] = 1\n",
    "\n",
    "#printing result\n",
    "print (\"frequency of each  characters in given string is :\", str(frequency))"
   ]
  }
 ],
 "metadata": {
  "kernelspec": {
   "display_name": "Python 3 (ipykernel)",
   "language": "python",
   "name": "python3"
  },
  "language_info": {
   "codemirror_mode": {
    "name": "ipython",
    "version": 3
   },
   "file_extension": ".py",
   "mimetype": "text/x-python",
   "name": "python",
   "nbconvert_exporter": "python",
   "pygments_lexer": "ipython3",
   "version": "3.9.7"
  }
 },
 "nbformat": 4,
 "nbformat_minor": 5
}
